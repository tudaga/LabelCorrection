{
 "cells": [
  {
   "cell_type": "code",
   "execution_count": 1,
   "id": "5016962a-8e5a-4494-9c90-7d7065164bf3",
   "metadata": {},
   "outputs": [],
   "source": [
    "%load_ext autoreload\n",
    "%autoreload 2"
   ]
  },
  {
   "cell_type": "code",
   "execution_count": 2,
   "id": "4fd179cf-b21c-4bcf-a213-40541da473e1",
   "metadata": {},
   "outputs": [
    {
     "name": "stderr",
     "output_type": "stream",
     "text": [
      "Global seed set to 0\n"
     ]
    },
    {
     "name": "stdout",
     "output_type": "stream",
     "text": [
      "Random seed set to 42\n",
      "scanpy              : 1.9.3\n",
      "anndata             : 0.8.0\n",
      "scvi                : 0.20.3\n",
      "hiddensc            : beta_25.03.23\n"
     ]
    }
   ],
   "source": [
    "import os\n",
    "import sys\n",
    "root_path = os.path.abspath('./..')\n",
    "sys.path.insert(0, root_path )\n",
    "\n",
    "import itertools\n",
    "import functools\n",
    "from tqdm import tqdm\n",
    "\n",
    "import pandas as pd\n",
    "import numpy as np\n",
    "import sklearn\n",
    "import sklearn.linear_model\n",
    "import sklearn.cluster\n",
    "import sklearn.metrics\n",
    "import matplotlib.pyplot as plt\n",
    "\n",
    "import hiddensc\n",
    "from hiddensc import utils, files, vis\n",
    "\n",
    "import scanpy as sc\n",
    "import scvi\n",
    "import anndata\n",
    "\n",
    "utils.set_random_seed(utils.RANDOM_SEED)\n",
    "utils.print_module_versions([sc, anndata, scvi, hiddensc])\n",
    "vis.visual_settings()"
   ]
  },
  {
   "cell_type": "markdown",
   "id": "38251957-2f11-4d8a-a330-d1d4735f2291",
   "metadata": {},
   "source": [
    "# Load data"
   ]
  },
  {
   "cell_type": "code",
   "execution_count": 3,
   "id": "4c182847-8a27-4b3f-873d-0914e2461e16",
   "metadata": {},
   "outputs": [
    {
     "data": {
      "text/plain": [
       "AnnData object with n_obs × n_vars = 1949 × 14498\n",
       "    obs: 'barcodes', 'batch', 'perturbed'\n",
       "    var: 'gene_ids', 'n_cells'\n",
       "    uns: 'log1p'\n",
       "    layers: 'counts'"
      ]
     },
     "execution_count": 3,
     "metadata": {},
     "output_type": "execute_result"
    }
   ],
   "source": [
    "EXP_NUM = 49\n",
    "exp_name = f'naiveB_1900_memoryB_{EXP_NUM:d}'\n",
    "main_datafile = os.path.join(root_path, files.DATA_DIR, f'{exp_name}_raw.h5ad')\n",
    "adata = sc.read(main_datafile)\n",
    "hiddensc.datasets.preprocess_data(adata)\n",
    "adata"
   ]
  },
  {
   "cell_type": "markdown",
   "id": "14638a7b-6ecb-4d87-9e78-b65e140c6c09",
   "metadata": {},
   "source": [
    "Prepare directories"
   ]
  },
  {
   "cell_type": "code",
   "execution_count": 4,
   "id": "7b3855f2-1ce3-4f83-9f01-0b7ce0021a90",
   "metadata": {
    "tags": []
   },
   "outputs": [],
   "source": [
    "at_figure_dir = functools.partial(os.path.join, root_path, 'figures', exp_name)\n",
    "at_results_dir = functools.partial(os.path.join, root_path, files.RESULT_DIR, exp_name)\n",
    "os.makedirs(at_results_dir(), exist_ok=True)\n",
    "at_train_dir = functools.partial(os.path.join, root_path, files.RESULT_DIR, exp_name, 'training')\n",
    "os.makedirs(at_train_dir(), exist_ok=True)"
   ]
  },
  {
   "cell_type": "code",
   "execution_count": 11,
   "id": "b0a6e42a-22cb-49a9-8495-4ee735da16e6",
   "metadata": {
    "tags": []
   },
   "outputs": [
    {
     "data": {
      "text/plain": [
       "[array(49),\n",
       " array(50),\n",
       " array(49),\n",
       " array(38),\n",
       " array(49),\n",
       " array(41),\n",
       " array(35),\n",
       " array(48),\n",
       " array(45),\n",
       " array(48),\n",
       " array(48),\n",
       " array(50),\n",
       " array(46),\n",
       " array(37),\n",
       " array(50),\n",
       " array(50),\n",
       " array(50),\n",
       " array(41),\n",
       " array(49),\n",
       " array(50),\n",
       " array(48),\n",
       " array(44),\n",
       " array(50),\n",
       " array(50),\n",
       " array(40),\n",
       " array(48),\n",
       " array(46),\n",
       " array(37),\n",
       " array(37),\n",
       " array(16),\n",
       " array(50),\n",
       " array(21),\n",
       " array(38),\n",
       " array(49),\n",
       " array(44),\n",
       " array(49),\n",
       " array(50),\n",
       " array(47),\n",
       " array(38),\n",
       " array(9),\n",
       " array(42),\n",
       " array(14),\n",
       " array(49),\n",
       " array(47),\n",
       " array(25),\n",
       " array(17),\n",
       " array(48),\n",
       " array(31),\n",
       " array(48),\n",
       " array(24),\n",
       " array(38),\n",
       " array(48),\n",
       " array(49),\n",
       " array(42),\n",
       " array(46),\n",
       " array(50),\n",
       " array(47),\n",
       " array(35),\n",
       " array(23),\n",
       " array(15),\n",
       " array(9),\n",
       " array(48),\n",
       " array(31),\n",
       " array(36),\n",
       " array(34),\n",
       " array(50),\n",
       " array(49),\n",
       " array(47),\n",
       " array(27),\n",
       " array(43),\n",
       " array(16),\n",
       " array(5)]"
      ]
     },
     "execution_count": 11,
     "metadata": {},
     "output_type": "execute_result"
    }
   ],
   "source": [
    "list(optimal_ks.values())"
   ]
  },
  {
   "cell_type": "code",
   "execution_count": 7,
   "id": "070c825f-8205-47de-9ea8-18eee3db585a",
   "metadata": {
    "tags": []
   },
   "outputs": [
    {
     "data": {
      "text/plain": [
       "array(49)"
      ]
     },
     "execution_count": 7,
     "metadata": {},
     "output_type": "execute_result"
    }
   ],
   "source": [
    "\n",
    "fname = os.path.join( root_path, 'figures', 'ablation', 'optimal_NUM_PCS_KS_dict.npz')\n",
    "optimal_ks = files.load_npz(fname)\n",
    "k = optimal_ks[exp_name]\n"
   ]
  },
  {
   "cell_type": "markdown",
   "id": "429dc269-0ae7-440c-bcf8-f8cfd547be28",
   "metadata": {},
   "source": [
    "# Generate dim reduced features"
   ]
  },
  {
   "cell_type": "code",
   "execution_count": 5,
   "id": "6c01db65-2341-451e-826e-7e12481a2602",
   "metadata": {
    "tags": []
   },
   "outputs": [],
   "source": [
    "feats = {}"
   ]
  },
  {
   "cell_type": "markdown",
   "id": "bb7aee72-8001-4a28-88d6-4c389fed5835",
   "metadata": {},
   "source": [
    "## PCA"
   ]
  },
  {
   "cell_type": "code",
   "execution_count": 6,
   "id": "1f13866e-5002-4f7e-a9ef-15c2536ecaf0",
   "metadata": {
    "tags": []
   },
   "outputs": [],
   "source": [
    "x_pca = hiddensc.models.get_pca(adata)\n",
    "feats['PCA'] = x_pca"
   ]
  },
  {
   "cell_type": "markdown",
   "id": "42f02a25-2c91-4e47-8a4f-015c54e1c30b",
   "metadata": {
    "tags": []
   },
   "source": [
    "## SCVI / LinearSCVI"
   ]
  },
  {
   "cell_type": "code",
   "execution_count": 7,
   "id": "a5d39593-e0f9-414e-89e5-5d88a6ea2d9d",
   "metadata": {
    "tags": []
   },
   "outputs": [
    {
     "name": "stderr",
     "output_type": "stream",
     "text": [
      "  0%|                                                     | 0/2 [00:00<?, ?it/s]No GPU/TPU found, falling back to CPU. (Set TF_CPP_MIN_LOG_LEVEL=0 and rerun for more info.)\n",
      "GPU available: False, used: False\n",
      "TPU available: False, using: 0 TPU cores\n",
      "IPU available: False, using: 0 IPUs\n",
      "HPU available: False, using: 0 HPUs\n"
     ]
    },
    {
     "name": "stdout",
     "output_type": "stream",
     "text": [
      "Epoch 250/250: 100%|██| 250/250 [17:32<00:00,  4.22s/it, loss=2.23e+03, v_num=1]"
     ]
    },
    {
     "name": "stderr",
     "output_type": "stream",
     "text": [
      "`Trainer.fit` stopped: `max_epochs=250` reached.\n"
     ]
    },
    {
     "name": "stdout",
     "output_type": "stream",
     "text": [
      "Epoch 250/250: 100%|██| 250/250 [17:32<00:00,  4.21s/it, loss=2.23e+03, v_num=1]\n"
     ]
    },
    {
     "name": "stderr",
     "output_type": "stream",
     "text": [
      " 50%|█████████████████████▌                     | 1/2 [17:35<17:35, 1055.01s/it]GPU available: False, used: False\n",
      "TPU available: False, using: 0 TPU cores\n",
      "IPU available: False, using: 0 IPUs\n",
      "HPU available: False, using: 0 HPUs\n"
     ]
    },
    {
     "name": "stdout",
     "output_type": "stream",
     "text": [
      "Epoch 216/250:  86%|▊| 215/250 [2:08:54<2:18:30, 237.45s/it, loss=1.89e+03, v_nu"
     ]
    },
    {
     "name": "stderr",
     "output_type": "stream",
     "text": [
      "/home/beangoben/miniconda/envs/hidden/lib/python3.10/site-packages/pytorch_lightning/trainer/call.py:48: UserWarning: Detected KeyboardInterrupt, attempting graceful shutdown...\n",
      "  rank_zero_warn(\"Detected KeyboardInterrupt, attempting graceful shutdown...\")\n",
      "100%|█████████████████████████████████████████| 2/2 [2:26:32<00:00, 4396.33s/it]\n"
     ]
    },
    {
     "data": {
      "text/plain": [
       "<Figure size 1200x800 with 0 Axes>"
      ]
     },
     "metadata": {},
     "output_type": "display_data"
    },
    {
     "data": {
      "text/plain": [
       "<Figure size 1200x800 with 0 Axes>"
      ]
     },
     "metadata": {},
     "output_type": "display_data"
    }
   ],
   "source": [
    "n_epochs = 250\n",
    "\n",
    "model_classes = [scvi.model.LinearSCVI, scvi.model.SCVI]\n",
    "ks = [10]#, 20, 30, 40, 50]\n",
    "combos = list(itertools.product(model_classes, ks))\n",
    "\n",
    "for model_cls, k in tqdm(combos):\n",
    "    local_adata = adata.copy()\n",
    "    name = f'{model_cls.__name__}_{k}'\n",
    "    model_cls.setup_anndata(local_adata, layer=\"counts\")\n",
    "    model = model_cls(local_adata, n_latent=k)\n",
    "    model.train(max_epochs=n_epochs, plan_kwargs={\"lr\": 5e-3}, check_val_every_n_epoch=5)\n",
    "    train_elbo = model.history[\"elbo_train\"][1:]\n",
    "    test_elbo = model.history[\"elbo_validation\"]\n",
    "    ax = train_elbo.plot()\n",
    "    test_elbo.plot(ax=ax)\n",
    "    plt.yscale('log')\n",
    "    plt.savefig(at_train_dir(f'{name}.png'))\n",
    "    plt.title(name)\n",
    "    feats[name] = model.get_latent_representation()\n",
    "    #plt.show()\n",
    "    plt.clf()\n",
    "    del local_adata"
   ]
  },
  {
   "cell_type": "code",
   "execution_count": 11,
   "id": "f92d88aa-280c-47c4-98d1-450f0ebc6987",
   "metadata": {
    "tags": []
   },
   "outputs": [],
   "source": [
    "fname = at_results_dir('features.npz')\n",
    "np.savez_compressed(fname, **feats)"
   ]
  },
  {
   "cell_type": "markdown",
   "id": "c21bace9-a66c-4e04-9d4a-f3e0df38b1bd",
   "metadata": {},
   "source": [
    "# Generate predictions"
   ]
  },
  {
   "cell_type": "code",
   "execution_count": 9,
   "id": "8fc22bb4-c51e-433f-b301-38a18f53ff26",
   "metadata": {
    "tags": []
   },
   "outputs": [
    {
     "name": "stderr",
     "output_type": "stream",
     "text": [
      "\n",
      "  0%|                                                     | 0/6 [00:00<?, ?it/s]\u001b[A\n",
      " 17%|███████▌                                     | 1/6 [00:00<00:00,  5.54it/s]\u001b[A\n",
      " 33%|███████████████                              | 2/6 [00:27<01:04, 16.14s/it]\u001b[A\n",
      " 67%|██████████████████████████████               | 4/6 [00:28<00:12,  6.40s/it]\u001b[A\n",
      "100%|█████████████████████████████████████████████| 6/6 [00:29<00:00,  5.00s/it]\u001b[A\n"
     ]
    },
    {
     "data": {
      "text/html": [
       "<div>\n",
       "<style scoped>\n",
       "    .dataframe tbody tr th:only-of-type {\n",
       "        vertical-align: middle;\n",
       "    }\n",
       "\n",
       "    .dataframe tbody tr th {\n",
       "        vertical-align: top;\n",
       "    }\n",
       "\n",
       "    .dataframe thead tr th {\n",
       "        text-align: left;\n",
       "    }\n",
       "\n",
       "    .dataframe thead tr:last-of-type th {\n",
       "        text-align: right;\n",
       "    }\n",
       "</style>\n",
       "<table border=\"1\" class=\"dataframe\">\n",
       "  <thead>\n",
       "    <tr>\n",
       "      <th></th>\n",
       "      <th>batch</th>\n",
       "      <th>perturbed</th>\n",
       "      <th colspan=\"4\" halign=\"left\">PCA</th>\n",
       "      <th colspan=\"4\" halign=\"left\">LinearSCVI_10</th>\n",
       "      <th colspan=\"4\" halign=\"left\">SCVI_10</th>\n",
       "    </tr>\n",
       "    <tr>\n",
       "      <th></th>\n",
       "      <th></th>\n",
       "      <th></th>\n",
       "      <th colspan=\"2\" halign=\"left\">linear</th>\n",
       "      <th colspan=\"2\" halign=\"left\">svm</th>\n",
       "      <th colspan=\"2\" halign=\"left\">linear</th>\n",
       "      <th colspan=\"2\" halign=\"left\">svm</th>\n",
       "      <th colspan=\"2\" halign=\"left\">linear</th>\n",
       "      <th colspan=\"2\" halign=\"left\">svm</th>\n",
       "    </tr>\n",
       "    <tr>\n",
       "      <th></th>\n",
       "      <th>Case</th>\n",
       "      <th>Memory B</th>\n",
       "      <th>p_hat</th>\n",
       "      <th>p_label</th>\n",
       "      <th>p_hat</th>\n",
       "      <th>p_label</th>\n",
       "      <th>p_hat</th>\n",
       "      <th>p_label</th>\n",
       "      <th>p_hat</th>\n",
       "      <th>p_label</th>\n",
       "      <th>p_hat</th>\n",
       "      <th>p_label</th>\n",
       "      <th>p_hat</th>\n",
       "      <th>p_label</th>\n",
       "    </tr>\n",
       "    <tr>\n",
       "      <th>barcodes</th>\n",
       "      <th></th>\n",
       "      <th></th>\n",
       "      <th></th>\n",
       "      <th></th>\n",
       "      <th></th>\n",
       "      <th></th>\n",
       "      <th></th>\n",
       "      <th></th>\n",
       "      <th></th>\n",
       "      <th></th>\n",
       "      <th></th>\n",
       "      <th></th>\n",
       "      <th></th>\n",
       "      <th></th>\n",
       "    </tr>\n",
       "  </thead>\n",
       "  <tbody>\n",
       "    <tr>\n",
       "      <th>naiveB_a_AAACCTGCACGGTAGA-1</th>\n",
       "      <td>1.0</td>\n",
       "      <td>0.0</td>\n",
       "      <td>0.493125</td>\n",
       "      <td>0.0</td>\n",
       "      <td>0.500000</td>\n",
       "      <td>1.0</td>\n",
       "      <td>0.522950</td>\n",
       "      <td>1.0</td>\n",
       "      <td>0.519707</td>\n",
       "      <td>1.0</td>\n",
       "      <td>0.525948</td>\n",
       "      <td>1.0</td>\n",
       "      <td>0.511121</td>\n",
       "      <td>1.0</td>\n",
       "    </tr>\n",
       "    <tr>\n",
       "      <th>naiveB_a_AAACCTGCAGATGGGT-1</th>\n",
       "      <td>1.0</td>\n",
       "      <td>0.0</td>\n",
       "      <td>0.395382</td>\n",
       "      <td>0.0</td>\n",
       "      <td>0.468766</td>\n",
       "      <td>0.0</td>\n",
       "      <td>0.432583</td>\n",
       "      <td>0.0</td>\n",
       "      <td>0.470591</td>\n",
       "      <td>0.0</td>\n",
       "      <td>0.430635</td>\n",
       "      <td>0.0</td>\n",
       "      <td>0.469353</td>\n",
       "      <td>0.0</td>\n",
       "    </tr>\n",
       "    <tr>\n",
       "      <th>naiveB_a_AAAGATGCATTTCAGG-1</th>\n",
       "      <td>0.0</td>\n",
       "      <td>0.0</td>\n",
       "      <td>0.359442</td>\n",
       "      <td>0.0</td>\n",
       "      <td>0.464822</td>\n",
       "      <td>0.0</td>\n",
       "      <td>0.461520</td>\n",
       "      <td>0.0</td>\n",
       "      <td>0.487306</td>\n",
       "      <td>0.0</td>\n",
       "      <td>0.540256</td>\n",
       "      <td>0.0</td>\n",
       "      <td>0.511193</td>\n",
       "      <td>1.0</td>\n",
       "    </tr>\n",
       "    <tr>\n",
       "      <th>naiveB_a_AAAGCAAAGCCAACAG-1</th>\n",
       "      <td>0.0</td>\n",
       "      <td>0.0</td>\n",
       "      <td>0.478047</td>\n",
       "      <td>0.0</td>\n",
       "      <td>0.500000</td>\n",
       "      <td>0.0</td>\n",
       "      <td>0.443951</td>\n",
       "      <td>0.0</td>\n",
       "      <td>0.470765</td>\n",
       "      <td>0.0</td>\n",
       "      <td>0.463140</td>\n",
       "      <td>0.0</td>\n",
       "      <td>0.489425</td>\n",
       "      <td>0.0</td>\n",
       "    </tr>\n",
       "    <tr>\n",
       "      <th>naiveB_a_AAAGCAAAGTGCCATT-1</th>\n",
       "      <td>1.0</td>\n",
       "      <td>0.0</td>\n",
       "      <td>0.512292</td>\n",
       "      <td>0.0</td>\n",
       "      <td>0.500000</td>\n",
       "      <td>1.0</td>\n",
       "      <td>0.516501</td>\n",
       "      <td>0.0</td>\n",
       "      <td>0.500000</td>\n",
       "      <td>0.0</td>\n",
       "      <td>0.408716</td>\n",
       "      <td>0.0</td>\n",
       "      <td>0.459262</td>\n",
       "      <td>0.0</td>\n",
       "    </tr>\n",
       "    <tr>\n",
       "      <th>...</th>\n",
       "      <td>...</td>\n",
       "      <td>...</td>\n",
       "      <td>...</td>\n",
       "      <td>...</td>\n",
       "      <td>...</td>\n",
       "      <td>...</td>\n",
       "      <td>...</td>\n",
       "      <td>...</td>\n",
       "      <td>...</td>\n",
       "      <td>...</td>\n",
       "      <td>...</td>\n",
       "      <td>...</td>\n",
       "      <td>...</td>\n",
       "      <td>...</td>\n",
       "    </tr>\n",
       "    <tr>\n",
       "      <th>memoryB_b_TCAGCTCAGCGTGTCC-1</th>\n",
       "      <td>1.0</td>\n",
       "      <td>1.0</td>\n",
       "      <td>0.674898</td>\n",
       "      <td>1.0</td>\n",
       "      <td>0.534335</td>\n",
       "      <td>1.0</td>\n",
       "      <td>0.655323</td>\n",
       "      <td>1.0</td>\n",
       "      <td>0.549441</td>\n",
       "      <td>1.0</td>\n",
       "      <td>0.552394</td>\n",
       "      <td>1.0</td>\n",
       "      <td>0.515062</td>\n",
       "      <td>1.0</td>\n",
       "    </tr>\n",
       "    <tr>\n",
       "      <th>memoryB_b_TCATTTGAGTCACGCC-1</th>\n",
       "      <td>1.0</td>\n",
       "      <td>1.0</td>\n",
       "      <td>0.676409</td>\n",
       "      <td>1.0</td>\n",
       "      <td>0.532120</td>\n",
       "      <td>1.0</td>\n",
       "      <td>0.520891</td>\n",
       "      <td>1.0</td>\n",
       "      <td>0.493158</td>\n",
       "      <td>0.0</td>\n",
       "      <td>0.584988</td>\n",
       "      <td>1.0</td>\n",
       "      <td>0.528655</td>\n",
       "      <td>1.0</td>\n",
       "    </tr>\n",
       "    <tr>\n",
       "      <th>memoryB_b_TCATTTGTCAGTTGAC-1</th>\n",
       "      <td>1.0</td>\n",
       "      <td>1.0</td>\n",
       "      <td>0.648580</td>\n",
       "      <td>1.0</td>\n",
       "      <td>0.532733</td>\n",
       "      <td>1.0</td>\n",
       "      <td>0.561100</td>\n",
       "      <td>1.0</td>\n",
       "      <td>0.524815</td>\n",
       "      <td>1.0</td>\n",
       "      <td>0.567481</td>\n",
       "      <td>1.0</td>\n",
       "      <td>0.527113</td>\n",
       "      <td>1.0</td>\n",
       "    </tr>\n",
       "    <tr>\n",
       "      <th>memoryB_b_TCGAGGCGTTACGGAG-1</th>\n",
       "      <td>1.0</td>\n",
       "      <td>1.0</td>\n",
       "      <td>0.701302</td>\n",
       "      <td>1.0</td>\n",
       "      <td>0.544463</td>\n",
       "      <td>1.0</td>\n",
       "      <td>0.724840</td>\n",
       "      <td>1.0</td>\n",
       "      <td>0.587956</td>\n",
       "      <td>1.0</td>\n",
       "      <td>0.598753</td>\n",
       "      <td>1.0</td>\n",
       "      <td>0.534616</td>\n",
       "      <td>1.0</td>\n",
       "    </tr>\n",
       "    <tr>\n",
       "      <th>memoryB_b_TGGCGCAAGCAGATCG-1</th>\n",
       "      <td>1.0</td>\n",
       "      <td>1.0</td>\n",
       "      <td>0.560128</td>\n",
       "      <td>1.0</td>\n",
       "      <td>0.513558</td>\n",
       "      <td>1.0</td>\n",
       "      <td>0.562956</td>\n",
       "      <td>1.0</td>\n",
       "      <td>0.524924</td>\n",
       "      <td>1.0</td>\n",
       "      <td>0.497072</td>\n",
       "      <td>0.0</td>\n",
       "      <td>0.500000</td>\n",
       "      <td>0.0</td>\n",
       "    </tr>\n",
       "  </tbody>\n",
       "</table>\n",
       "<p>1949 rows × 14 columns</p>\n",
       "</div>"
      ],
      "text/plain": [
       "                             batch perturbed       PCA                    \\\n",
       "                                                linear               svm   \n",
       "                              Case  Memory B     p_hat p_label     p_hat   \n",
       "barcodes                                                                   \n",
       "naiveB_a_AAACCTGCACGGTAGA-1    1.0       0.0  0.493125     0.0  0.500000   \n",
       "naiveB_a_AAACCTGCAGATGGGT-1    1.0       0.0  0.395382     0.0  0.468766   \n",
       "naiveB_a_AAAGATGCATTTCAGG-1    0.0       0.0  0.359442     0.0  0.464822   \n",
       "naiveB_a_AAAGCAAAGCCAACAG-1    0.0       0.0  0.478047     0.0  0.500000   \n",
       "naiveB_a_AAAGCAAAGTGCCATT-1    1.0       0.0  0.512292     0.0  0.500000   \n",
       "...                            ...       ...       ...     ...       ...   \n",
       "memoryB_b_TCAGCTCAGCGTGTCC-1   1.0       1.0  0.674898     1.0  0.534335   \n",
       "memoryB_b_TCATTTGAGTCACGCC-1   1.0       1.0  0.676409     1.0  0.532120   \n",
       "memoryB_b_TCATTTGTCAGTTGAC-1   1.0       1.0  0.648580     1.0  0.532733   \n",
       "memoryB_b_TCGAGGCGTTACGGAG-1   1.0       1.0  0.701302     1.0  0.544463   \n",
       "memoryB_b_TGGCGCAAGCAGATCG-1   1.0       1.0  0.560128     1.0  0.513558   \n",
       "\n",
       "                                     LinearSCVI_10                            \\\n",
       "                                            linear               svm           \n",
       "                             p_label         p_hat p_label     p_hat p_label   \n",
       "barcodes                                                                       \n",
       "naiveB_a_AAACCTGCACGGTAGA-1      1.0      0.522950     1.0  0.519707     1.0   \n",
       "naiveB_a_AAACCTGCAGATGGGT-1      0.0      0.432583     0.0  0.470591     0.0   \n",
       "naiveB_a_AAAGATGCATTTCAGG-1      0.0      0.461520     0.0  0.487306     0.0   \n",
       "naiveB_a_AAAGCAAAGCCAACAG-1      0.0      0.443951     0.0  0.470765     0.0   \n",
       "naiveB_a_AAAGCAAAGTGCCATT-1      1.0      0.516501     0.0  0.500000     0.0   \n",
       "...                              ...           ...     ...       ...     ...   \n",
       "memoryB_b_TCAGCTCAGCGTGTCC-1     1.0      0.655323     1.0  0.549441     1.0   \n",
       "memoryB_b_TCATTTGAGTCACGCC-1     1.0      0.520891     1.0  0.493158     0.0   \n",
       "memoryB_b_TCATTTGTCAGTTGAC-1     1.0      0.561100     1.0  0.524815     1.0   \n",
       "memoryB_b_TCGAGGCGTTACGGAG-1     1.0      0.724840     1.0  0.587956     1.0   \n",
       "memoryB_b_TGGCGCAAGCAGATCG-1     1.0      0.562956     1.0  0.524924     1.0   \n",
       "\n",
       "                               SCVI_10                            \n",
       "                                linear               svm          \n",
       "                                 p_hat p_label     p_hat p_label  \n",
       "barcodes                                                          \n",
       "naiveB_a_AAACCTGCACGGTAGA-1   0.525948     1.0  0.511121     1.0  \n",
       "naiveB_a_AAACCTGCAGATGGGT-1   0.430635     0.0  0.469353     0.0  \n",
       "naiveB_a_AAAGATGCATTTCAGG-1   0.540256     0.0  0.511193     1.0  \n",
       "naiveB_a_AAAGCAAAGCCAACAG-1   0.463140     0.0  0.489425     0.0  \n",
       "naiveB_a_AAAGCAAAGTGCCATT-1   0.408716     0.0  0.459262     0.0  \n",
       "...                                ...     ...       ...     ...  \n",
       "memoryB_b_TCAGCTCAGCGTGTCC-1  0.552394     1.0  0.515062     1.0  \n",
       "memoryB_b_TCATTTGAGTCACGCC-1  0.584988     1.0  0.528655     1.0  \n",
       "memoryB_b_TCATTTGTCAGTTGAC-1  0.567481     1.0  0.527113     1.0  \n",
       "memoryB_b_TCGAGGCGTTACGGAG-1  0.598753     1.0  0.534616     1.0  \n",
       "memoryB_b_TGGCGCAAGCAGATCG-1  0.497072     0.0  0.500000     0.0  \n",
       "\n",
       "[1949 rows x 14 columns]"
      ]
     },
     "execution_count": 9,
     "metadata": {},
     "output_type": "execute_result"
    }
   ],
   "source": [
    "from sklearn.exceptions import ConvergenceWarning\n",
    "import warnings\n",
    "warnings.simplefilter(\"ignore\", category=ConvergenceWarning)\n",
    "\n",
    "\n",
    "feats = files.load_npz(at_results_dir('features.npz'))\n",
    "y = (adata.obs['batch'].values == 'Case').astype(np.int32)\n",
    "y_true = (adata.obs['perturbed'].values == 'Memory B').astype(np.int32)\n",
    "ids = adata.obs['barcodes'].values\n",
    "pred_fns = {'linear': hiddensc.models.linear_predictions,\n",
    "              'svm': hiddensc.models.svm_predictions}\n",
    "\n",
    "preds = [y, y_true]\n",
    "info = [('batch', '','Case'), ('perturbed', '','Memory B')]\n",
    "combos = list(itertools.product(feats.keys(), pred_fns.keys()))\n",
    "\n",
    "for feat_name, strat_name  in tqdm(combos):\n",
    "    rand_state=0\n",
    "    x = feats[feat_name]\n",
    "    p_hat, p_labels = pred_fns[strat_name](x, y, 1, rand_state)\n",
    "    preds.append(p_hat)\n",
    "    info.append((feat_name, strat_name, 'p_hat'))\n",
    "    preds.append(p_labels)\n",
    "    info.append((feat_name, strat_name, 'p_label'))\n",
    "    \n",
    "cols = pd.MultiIndex.from_tuples(info)\n",
    "pred_df = pd.DataFrame(np.array(preds).T, index=adata.obs['barcodes'], columns=cols)\n",
    "pred_df.to_csv(at_results_dir('predictions.csv'))\n",
    "pred_df"
   ]
  },
  {
   "cell_type": "markdown",
   "id": "c4f096e3-a453-4e90-8507-51a777cbea62",
   "metadata": {},
   "source": [
    "# Generate performance stats"
   ]
  },
  {
   "cell_type": "code",
   "execution_count": 12,
   "id": "f79458d5-3c6f-449d-88c9-401d23c5931a",
   "metadata": {
    "tags": []
   },
   "outputs": [
    {
     "data": {
      "text/html": [
       "<div>\n",
       "<style scoped>\n",
       "    .dataframe tbody tr th:only-of-type {\n",
       "        vertical-align: middle;\n",
       "    }\n",
       "\n",
       "    .dataframe tbody tr th {\n",
       "        vertical-align: top;\n",
       "    }\n",
       "\n",
       "    .dataframe thead th {\n",
       "        text-align: right;\n",
       "    }\n",
       "</style>\n",
       "<table border=\"1\" class=\"dataframe\">\n",
       "  <thead>\n",
       "    <tr style=\"text-align: right;\">\n",
       "      <th></th>\n",
       "      <th>exp</th>\n",
       "      <th>dim_reduce</th>\n",
       "      <th>method</th>\n",
       "      <th>AUCROC</th>\n",
       "      <th>AP</th>\n",
       "      <th>Recall</th>\n",
       "      <th>Precision</th>\n",
       "      <th>F1</th>\n",
       "    </tr>\n",
       "  </thead>\n",
       "  <tbody>\n",
       "    <tr>\n",
       "      <th>0</th>\n",
       "      <td>naiveB_1900_memoryB_49</td>\n",
       "      <td>LinearSCVI_10</td>\n",
       "      <td>linear</td>\n",
       "      <td>0.920827</td>\n",
       "      <td>0.339665</td>\n",
       "      <td>0.938776</td>\n",
       "      <td>0.130682</td>\n",
       "      <td>0.229426</td>\n",
       "    </tr>\n",
       "    <tr>\n",
       "      <th>1</th>\n",
       "      <td>naiveB_1900_memoryB_49</td>\n",
       "      <td>LinearSCVI_10</td>\n",
       "      <td>svm</td>\n",
       "      <td>0.888733</td>\n",
       "      <td>0.288445</td>\n",
       "      <td>0.877551</td>\n",
       "      <td>0.059474</td>\n",
       "      <td>0.111399</td>\n",
       "    </tr>\n",
       "    <tr>\n",
       "      <th>2</th>\n",
       "      <td>naiveB_1900_memoryB_49</td>\n",
       "      <td>PCA</td>\n",
       "      <td>linear</td>\n",
       "      <td>0.896885</td>\n",
       "      <td>0.211313</td>\n",
       "      <td>0.918367</td>\n",
       "      <td>0.104651</td>\n",
       "      <td>0.187891</td>\n",
       "    </tr>\n",
       "    <tr>\n",
       "      <th>3</th>\n",
       "      <td>naiveB_1900_memoryB_49</td>\n",
       "      <td>PCA</td>\n",
       "      <td>svm</td>\n",
       "      <td>0.863663</td>\n",
       "      <td>0.143348</td>\n",
       "      <td>0.938776</td>\n",
       "      <td>0.049516</td>\n",
       "      <td>0.094070</td>\n",
       "    </tr>\n",
       "    <tr>\n",
       "      <th>4</th>\n",
       "      <td>naiveB_1900_memoryB_49</td>\n",
       "      <td>SCVI_10</td>\n",
       "      <td>linear</td>\n",
       "      <td>0.807981</td>\n",
       "      <td>0.143701</td>\n",
       "      <td>0.795918</td>\n",
       "      <td>0.098485</td>\n",
       "      <td>0.175281</td>\n",
       "    </tr>\n",
       "    <tr>\n",
       "      <th>5</th>\n",
       "      <td>naiveB_1900_memoryB_49</td>\n",
       "      <td>SCVI_10</td>\n",
       "      <td>svm</td>\n",
       "      <td>0.769882</td>\n",
       "      <td>0.113433</td>\n",
       "      <td>0.816327</td>\n",
       "      <td>0.043956</td>\n",
       "      <td>0.083420</td>\n",
       "    </tr>\n",
       "  </tbody>\n",
       "</table>\n",
       "</div>"
      ],
      "text/plain": [
       "                      exp     dim_reduce  method    AUCROC        AP  \\\n",
       "0  naiveB_1900_memoryB_49  LinearSCVI_10  linear  0.920827  0.339665   \n",
       "1  naiveB_1900_memoryB_49  LinearSCVI_10     svm  0.888733  0.288445   \n",
       "2  naiveB_1900_memoryB_49            PCA  linear  0.896885  0.211313   \n",
       "3  naiveB_1900_memoryB_49            PCA     svm  0.863663  0.143348   \n",
       "4  naiveB_1900_memoryB_49        SCVI_10  linear  0.807981  0.143701   \n",
       "5  naiveB_1900_memoryB_49        SCVI_10     svm  0.769882  0.113433   \n",
       "\n",
       "     Recall  Precision        F1  \n",
       "0  0.938776   0.130682  0.229426  \n",
       "1  0.877551   0.059474  0.111399  \n",
       "2  0.918367   0.104651  0.187891  \n",
       "3  0.938776   0.049516  0.094070  \n",
       "4  0.795918   0.098485  0.175281  \n",
       "5  0.816327   0.043956  0.083420  "
      ]
     },
     "execution_count": 12,
     "metadata": {},
     "output_type": "execute_result"
    }
   ],
   "source": [
    "batch, perturbed, pred_df = files.load_predictions(at_results_dir('predictions.csv'))\n",
    "results = []\n",
    "for (dim_reduce, method), grp_df in pred_df.groupby(axis=1, level=[0,1]):\n",
    "    p_hat = grp_df[(dim_reduce, method, 'p_hat')]\n",
    "    p_label = grp_df[(dim_reduce, method, 'p_label')]\n",
    "    stat = {'exp':exp_name, \n",
    "            'dim_reduce': dim_reduce,\n",
    "            'method': method}\n",
    "    stat.update(hiddensc.metrics.evaluate_classification(perturbed, p_hat, p_label))\n",
    "    results.append(stat)\n",
    "\n",
    "results_df = pd.DataFrame(results)\n",
    "results_df.to_csv(at_results_dir('classification_stats.csv'), index=False)\n",
    "results_df "
   ]
  },
  {
   "cell_type": "code",
   "execution_count": 10,
   "id": "860cef92-38c2-4320-a240-2a02fbba7f47",
   "metadata": {
    "tags": []
   },
   "outputs": [
    {
     "data": {
      "text/plain": [
       "{'naive_DEs': array(['IGHD', 'TCL1A', 'CXCR4', 'CD74', 'BTG1', 'RPL18A'], dtype=object),\n",
       " 'memory_DEs': array(['B2M', 'COTL1', 'RPS14', 'EEF1A1', 'ITGB1', 'IGHA1', 'CLECL1'],\n",
       "       dtype=object),\n",
       " 'control_DEs': array([], dtype=object),\n",
       " 'case_DEs': array([], dtype=object),\n",
       " 'HiDDEN_0_DEs': array(['BTG1', 'CXCR4', 'TMSB4X', 'MT-ATP6', 'IGHD', 'HMGB1'],\n",
       "       dtype=object),\n",
       " 'HiDDEN_1_DEs': array(['EEF2', 'EEF1A1', 'RPS4X', 'SLC25A6', 'RPL23A'], dtype=object)}"
      ]
     },
     "execution_count": 10,
     "metadata": {},
     "output_type": "execute_result"
    }
   ],
   "source": [
    "dict(np.load(at_figure_dir('DE_results.npz'), allow_pickle=True))"
   ]
  },
  {
   "cell_type": "markdown",
   "id": "c8c2a127-4f23-435e-a647-52502e03d15b",
   "metadata": {
    "tags": []
   },
   "source": [
    "# Get DE gene statistics\n",
    "\n",
    "First \"true\" genes"
   ]
  },
  {
   "cell_type": "code",
   "execution_count": 13,
   "id": "618e6d55-7f16-4461-8d7a-202374306295",
   "metadata": {
    "tags": []
   },
   "outputs": [
    {
     "data": {
      "text/plain": [
       "{'Memory B': array(['B2M', 'COTL1', 'RPS14', 'EEF1A1', 'ITGB1', 'IGHA1', 'CLECL1',\n",
       "        'HLA-C'], dtype='<U6'),\n",
       " 'Naive B': array(['IGHD', 'TCL1A', 'CXCR4', 'CD74', 'BTG1', 'RPL18A'], dtype='<U6'),\n",
       " 'Case': array([], dtype='<U1'),\n",
       " 'Control': array([], dtype='<U1')}"
      ]
     },
     "execution_count": 13,
     "metadata": {},
     "output_type": "execute_result"
    }
   ],
   "source": [
    "de_genes = hiddensc.datasets.get_de_genes(adata, 'perturbed')\n",
    "de_genes.update(hiddensc.datasets.get_de_genes(adata, 'batch'))\n",
    "de_genes"
   ]
  },
  {
   "cell_type": "code",
   "execution_count": 14,
   "id": "56a2dee6-3093-445a-9f60-f7ca9db12e4d",
   "metadata": {
    "tags": []
   },
   "outputs": [],
   "source": [
    "results = []\n",
    "info = {'exp_name':exp_name,\n",
    "        'True labels': 'Naive B/Memory B',\n",
    "        'Compare_labels': 'Control/Case', 'info':''}\n",
    "info.update(hiddensc.metrics.evaluate_de_genes(de_genes, 'Naive B', 'Memory B', 'Control', 'Case'))\n",
    "results.append(info)"
   ]
  },
  {
   "cell_type": "code",
   "execution_count": 15,
   "id": "7d916111-fdb5-4352-9d87-1c162cb58eeb",
   "metadata": {
    "tags": []
   },
   "outputs": [
    {
     "data": {
      "text/plain": [
       "{'Memory B': array(['B2M', 'COTL1', 'RPS14', 'EEF1A1', 'ITGB1', 'IGHA1', 'CLECL1',\n",
       "        'HLA-C'], dtype='<U6'),\n",
       " 'Naive B': array(['IGHD', 'TCL1A', 'CXCR4', 'CD74', 'BTG1', 'RPL18A'], dtype='<U6'),\n",
       " 'Case': array([], dtype='<U1'),\n",
       " 'Control': array([], dtype='<U1'),\n",
       " 'HiDDEN_0': array(['BTG1', 'MT-ATP6', 'CD74', 'TMSB4X', 'MT-CO2', 'CXCR4', 'IGHD'],\n",
       "       dtype='<U7'),\n",
       " 'HiDDEN_1': array(['EEF2', 'EEF1A1', 'RPS4X', 'SLC25A6', 'RPL23A', 'RPS8', 'RPL11'],\n",
       "       dtype='<U7')}"
      ]
     },
     "execution_count": 15,
     "metadata": {},
     "output_type": "execute_result"
    }
   ],
   "source": [
    "NEW_LABEL = 'HiDDEN'\n",
    "best_model = ('PCA', 'linear', 'p_label')\n",
    "\n",
    "adata.obs['refined_labels'] = pred_df[best_model].values.astype(int).astype(str)\n",
    "de_genes.update(hiddensc.datasets.get_de_genes(adata, 'refined_labels', f'{NEW_LABEL}_'))\n",
    "\n",
    "info = {'exp_name':exp_name,\n",
    "        'True labels': 'Naive B/Memory B',\n",
    "        'Compare_labels': NEW_LABEL, 'info': '_'.join(best_model[:2])}\n",
    "info.update(hiddensc.metrics.evaluate_de_genes(de_genes, 'Naive B', 'Memory B', f'{NEW_LABEL}_0', f'{NEW_LABEL}_1' ))\n",
    "info.update({})\n",
    "results.append(info)\n",
    "de_genes"
   ]
  },
  {
   "cell_type": "code",
   "execution_count": 16,
   "id": "d548ef10-3662-4842-9a6e-db05ba94352d",
   "metadata": {
    "tags": []
   },
   "outputs": [
    {
     "data": {
      "text/plain": [
       "{'Memory B': array(['B2M', 'COTL1', 'RPS14', 'EEF1A1', 'ITGB1', 'IGHA1', 'CLECL1',\n",
       "        'HLA-C'], dtype='<U6'),\n",
       " 'Naive B': array(['IGHD', 'TCL1A', 'CXCR4', 'CD74', 'BTG1', 'RPL18A'], dtype='<U6'),\n",
       " 'Case': array([], dtype='<U1'),\n",
       " 'Control': array([], dtype='<U1'),\n",
       " 'HiDDEN_0': array(['BTG1', 'MT-ATP6', 'CD74', 'TMSB4X', 'MT-CO2', 'CXCR4', 'IGHD'],\n",
       "       dtype='<U7'),\n",
       " 'HiDDEN_1': array(['EEF2', 'EEF1A1', 'RPS4X', 'SLC25A6', 'RPL23A', 'RPS8', 'RPL11'],\n",
       "       dtype='<U7'),\n",
       " 'LSCVI_0': array(['IGHD', 'CXCR4', 'CD74', 'BTG1', 'TCL1A', 'IGLC2', 'MEF2C',\n",
       "        'TMSB4X', 'SEC62', 'IGLC3', 'HLA-DRB1'], dtype='<U8'),\n",
       " 'LSCVI_1': array(['EEF1A1', 'EEF2', 'B2M', 'RPL23A', 'RPS14', 'RPS18', 'RPL27A',\n",
       "        'COTL1', 'PLAC8', 'RPS8', 'RPL19', 'RPS15A', 'HLA-C', 'RPS23',\n",
       "        'JUNB', 'TPT1', 'GNB2L1', 'LY6E', 'DUSP1', 'RPS4X'], dtype='<U6')}"
      ]
     },
     "execution_count": 16,
     "metadata": {},
     "output_type": "execute_result"
    }
   ],
   "source": [
    "NEW_LABEL = 'LSCVI'\n",
    "best_model = ('LinearSCVI_10', 'linear', 'p_label')\n",
    "\n",
    "adata.obs['refined_labels'] = pred_df[best_model].values.astype(int).astype(str)\n",
    "de_genes.update(hiddensc.datasets.get_de_genes(adata, 'refined_labels', f'{NEW_LABEL}_'))\n",
    "\n",
    "info = {'exp_name':exp_name,\n",
    "        'True labels': 'Naive B/Memory B',\n",
    "        'Compare_labels': NEW_LABEL, 'info': '_'.join(best_model[:2])}\n",
    "info.update(hiddensc.metrics.evaluate_de_genes(de_genes, 'Naive B', 'Memory B', f'{NEW_LABEL}_0', f'{NEW_LABEL}_1' ))\n",
    "info.update({})\n",
    "results.append(info)\n",
    "de_genes"
   ]
  },
  {
   "cell_type": "code",
   "execution_count": 17,
   "id": "6a0433d3-66ce-45df-a10a-2ad2da722bb8",
   "metadata": {
    "tags": []
   },
   "outputs": [
    {
     "data": {
      "text/html": [
       "<div>\n",
       "<style scoped>\n",
       "    .dataframe tbody tr th:only-of-type {\n",
       "        vertical-align: middle;\n",
       "    }\n",
       "\n",
       "    .dataframe tbody tr th {\n",
       "        vertical-align: top;\n",
       "    }\n",
       "\n",
       "    .dataframe thead th {\n",
       "        text-align: right;\n",
       "    }\n",
       "</style>\n",
       "<table border=\"1\" class=\"dataframe\">\n",
       "  <thead>\n",
       "    <tr style=\"text-align: right;\">\n",
       "      <th></th>\n",
       "      <th>exp_name</th>\n",
       "      <th>True labels</th>\n",
       "      <th>Compare_labels</th>\n",
       "      <th>info</th>\n",
       "      <th>precision</th>\n",
       "      <th>recall</th>\n",
       "      <th>fdr</th>\n",
       "      <th>f1_score</th>\n",
       "    </tr>\n",
       "  </thead>\n",
       "  <tbody>\n",
       "    <tr>\n",
       "      <th>0</th>\n",
       "      <td>naiveB_1900_memoryB_49</td>\n",
       "      <td>Naive B/Memory B</td>\n",
       "      <td>Control/Case</td>\n",
       "      <td></td>\n",
       "      <td>NaN</td>\n",
       "      <td>0.000000</td>\n",
       "      <td>NaN</td>\n",
       "      <td>NaN</td>\n",
       "    </tr>\n",
       "    <tr>\n",
       "      <th>1</th>\n",
       "      <td>naiveB_1900_memoryB_49</td>\n",
       "      <td>Naive B/Memory B</td>\n",
       "      <td>HiDDEN</td>\n",
       "      <td>PCA_linear</td>\n",
       "      <td>0.357143</td>\n",
       "      <td>0.357143</td>\n",
       "      <td>0.642857</td>\n",
       "      <td>0.357143</td>\n",
       "    </tr>\n",
       "    <tr>\n",
       "      <th>2</th>\n",
       "      <td>naiveB_1900_memoryB_49</td>\n",
       "      <td>Naive B/Memory B</td>\n",
       "      <td>LSCVI</td>\n",
       "      <td>LinearSCVI_10_linear</td>\n",
       "      <td>0.322581</td>\n",
       "      <td>0.714286</td>\n",
       "      <td>0.677419</td>\n",
       "      <td>0.444444</td>\n",
       "    </tr>\n",
       "  </tbody>\n",
       "</table>\n",
       "</div>"
      ],
      "text/plain": [
       "                 exp_name       True labels Compare_labels  \\\n",
       "0  naiveB_1900_memoryB_49  Naive B/Memory B   Control/Case   \n",
       "1  naiveB_1900_memoryB_49  Naive B/Memory B         HiDDEN   \n",
       "2  naiveB_1900_memoryB_49  Naive B/Memory B          LSCVI   \n",
       "\n",
       "                   info  precision    recall       fdr  f1_score  \n",
       "0                              NaN  0.000000       NaN       NaN  \n",
       "1            PCA_linear   0.357143  0.357143  0.642857  0.357143  \n",
       "2  LinearSCVI_10_linear   0.322581  0.714286  0.677419  0.444444  "
      ]
     },
     "execution_count": 17,
     "metadata": {},
     "output_type": "execute_result"
    }
   ],
   "source": [
    "de_df = pd.DataFrame(results)\n",
    "de_df"
   ]
  },
  {
   "cell_type": "code",
   "execution_count": 20,
   "id": "bf20c2c4-3a06-42f0-94e2-c3c42e688c68",
   "metadata": {
    "tags": []
   },
   "outputs": [],
   "source": [
    "files.save_npz(at_results_dir('de_genes.npz'), de_genes)\n",
    "de_df.to_csv(at_results_dir('de_genes.csv'))"
   ]
  }
 ],
 "metadata": {
  "environment": {
   "name": "pytorch-gpu.1-9.m81",
   "type": "gcloud",
   "uri": "gcr.io/deeplearning-platform-release/pytorch-gpu.1-9:m81"
  },
  "kernelspec": {
   "display_name": "Python 3",
   "language": "python",
   "name": "python3"
  },
  "language_info": {
   "codemirror_mode": {
    "name": "ipython",
    "version": 3
   },
   "file_extension": ".py",
   "mimetype": "text/x-python",
   "name": "python",
   "nbconvert_exporter": "python",
   "pygments_lexer": "ipython3",
   "version": "3.7.10"
  }
 },
 "nbformat": 4,
 "nbformat_minor": 5
}
