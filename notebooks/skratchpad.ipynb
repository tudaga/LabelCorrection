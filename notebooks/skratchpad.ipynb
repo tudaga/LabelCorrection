{
 "cells": [
  {
   "cell_type": "code",
   "execution_count": 1,
   "id": "5016962a-8e5a-4494-9c90-7d7065164bf3",
   "metadata": {},
   "outputs": [],
   "source": [
    "%load_ext autoreload\n",
    "%autoreload 2"
   ]
  },
  {
   "cell_type": "code",
   "execution_count": 3,
   "id": "4fd179cf-b21c-4bcf-a213-40541da473e1",
   "metadata": {},
   "outputs": [
    {
     "name": "stdout",
     "output_type": "stream",
     "text": [
      "Random seed set to 42\n",
      "scanpy              : 1.9.3\n",
      "anndata             : 0.8.0\n",
      "scvi                : 0.20.3\n",
      "hiddensc            : beta_25.03.23\n"
     ]
    }
   ],
   "source": [
    "import os\n",
    "import sys\n",
    "root_path = os.path.abspath('./..')\n",
    "sys.path.insert(0, root_path )\n",
    "\n",
    "import itertools\n",
    "import functools\n",
    "from tqdm import tqdm\n",
    "\n",
    "import pandas as pd\n",
    "import numpy as np\n",
    "import numba\n",
    "import sklearn\n",
    "import sklearn.linear_model\n",
    "import sklearn.cluster\n",
    "import sklearn.metrics\n",
    "import matplotlib.pyplot as plt\n",
    "\n",
    "import hiddensc\n",
    "from hiddensc import utils, files, vis\n",
    "\n",
    "import scanpy as sc\n",
    "import scvi\n",
    "import anndata\n",
    "\n",
    "utils.set_random_seed(utils.RANDOM_SEED)\n",
    "utils.print_module_versions([sc, anndata, scvi, hiddensc])\n",
    "vis.visual_settings()"
   ]
  },
  {
   "cell_type": "markdown",
   "id": "38251957-2f11-4d8a-a330-d1d4735f2291",
   "metadata": {},
   "source": [
    "# Load data"
   ]
  },
  {
   "cell_type": "code",
   "execution_count": 6,
   "id": "4c182847-8a27-4b3f-873d-0914e2461e16",
   "metadata": {},
   "outputs": [
    {
     "name": "stdout",
     "output_type": "stream",
     "text": [
      "Random seed set to 42\n"
     ]
    }
   ],
   "source": [
    "OVERWRITE=False\n",
    "fname = os.path.join(root_path, 'figures', 'ablation', 'optimal_NUM_PCS_KS_dict.npz')\n",
    "optimal_ks = files.load_npz(fname)\n",
    "\n",
    "exp_id = 1404\n",
    "utils.set_random_seed(utils.RANDOM_SEED)\n",
    "data_name = f'naiveB_1900_memoryB_{exp_id:d}'\n",
    "# Utility filename makers.\n",
    "at_results_dir = functools.partial(os.path.join, root_path, files.RESULT_DIR, data_name)\n",
    "at_train_dir = functools.partial(os.path.join, root_path, files.RESULT_DIR, data_name, 'training')\n",
    "os.makedirs(at_results_dir(), exist_ok=True)\n",
    "os.makedirs(at_train_dir(), exist_ok=True)\n",
    "fname = at_results_dir('dim_reduced.npz')\n",
    "if not OVERWRITE and os.path.exists(fname):\n",
    "    print(f'Skipping {data_name}, found outputs and overwrite={OVERWRITE}')\n",
    "\n",
    "# Load dataset.\n",
    "main_datafile = os.path.join(root_path, files.DATA_DIR, f'{data_name}_raw.h5ad')\n",
    "adata = sc.read(main_datafile)\n",
    "hiddensc.datasets.preprocess_data(adata)"
   ]
  },
  {
   "cell_type": "code",
   "execution_count": 21,
   "id": "f2774e9f-ecb2-43e2-ae22-37201966d679",
   "metadata": {},
   "outputs": [],
   "source": [
    "# Features.\n",
    "feats = {}\n",
    "x_pca = hiddensc.models.get_pca(adata)\n",
    "k = optimal_ks[data_name]\n",
    "feats['PCA'] = x_pca[:, :k]"
   ]
  },
  {
   "cell_type": "code",
   "execution_count": 24,
   "id": "eec623b4-9377-4b63-b51f-fd241925058c",
   "metadata": {},
   "outputs": [
    {
     "name": "stderr",
     "output_type": "stream",
     "text": [
      "  0%|          | 0/2 [00:00<?, ?it/s]GPU available: True (cuda), used: True\n",
      "TPU available: False, using: 0 TPU cores\n",
      "IPU available: False, using: 0 IPUs\n",
      "HPU available: False, using: 0 HPUs\n",
      "LOCAL_RANK: 0 - CUDA_VISIBLE_DEVICES: [0]\n"
     ]
    },
    {
     "name": "stdout",
     "output_type": "stream",
     "text": [
      "Epoch 250/250: 100%|██████████| 250/250 [01:22<00:00,  2.97it/s, loss=2.36e+03, v_num=1]"
     ]
    },
    {
     "name": "stderr",
     "output_type": "stream",
     "text": [
      "`Trainer.fit` stopped: `max_epochs=250` reached.\n"
     ]
    },
    {
     "name": "stdout",
     "output_type": "stream",
     "text": [
      "Epoch 250/250: 100%|██████████| 250/250 [01:22<00:00,  3.03it/s, loss=2.36e+03, v_num=1]\n"
     ]
    },
    {
     "name": "stderr",
     "output_type": "stream",
     "text": [
      " 50%|█████     | 1/2 [01:24<01:24, 84.05s/it]GPU available: True (cuda), used: True\n",
      "TPU available: False, using: 0 TPU cores\n",
      "IPU available: False, using: 0 IPUs\n",
      "HPU available: False, using: 0 HPUs\n",
      "LOCAL_RANK: 0 - CUDA_VISIBLE_DEVICES: [0]\n"
     ]
    },
    {
     "name": "stdout",
     "output_type": "stream",
     "text": [
      "Epoch 250/250: 100%|██████████| 250/250 [01:25<00:00,  2.84it/s, loss=2.08e+03, v_num=1]"
     ]
    },
    {
     "name": "stderr",
     "output_type": "stream",
     "text": [
      "`Trainer.fit` stopped: `max_epochs=250` reached.\n"
     ]
    },
    {
     "name": "stdout",
     "output_type": "stream",
     "text": [
      "Epoch 250/250: 100%|██████████| 250/250 [01:25<00:00,  2.91it/s, loss=2.08e+03, v_num=1]\n"
     ]
    },
    {
     "name": "stderr",
     "output_type": "stream",
     "text": [
      "100%|██████████| 2/2 [02:51<00:00, 85.96s/it]\n"
     ]
    },
    {
     "data": {
      "text/plain": [
       "<Figure size 1200x800 with 0 Axes>"
      ]
     },
     "metadata": {},
     "output_type": "display_data"
    },
    {
     "data": {
      "text/plain": [
       "<Figure size 1200x800 with 0 Axes>"
      ]
     },
     "metadata": {},
     "output_type": "display_data"
    }
   ],
   "source": [
    "ks = [25]\n",
    "n_epochs = 250\n",
    "\n",
    "model_classes = [scvi.model.LinearSCVI, scvi.model.SCVI]\n",
    "combos = list(itertools.product(model_classes, ks))\n",
    "for model_cls, k in tqdm(combos):\n",
    "    local_adata = adata.copy()\n",
    "    name = f'{model_cls.__name__}_{k}'\n",
    "    model_cls.setup_anndata(local_adata, layer=\"counts\")\n",
    "    model = model_cls(local_adata, n_latent=k)\n",
    "    model.train(max_epochs=n_epochs, plan_kwargs={\"lr\": 5e-3},\n",
    "                check_val_every_n_epoch=5)\n",
    "    train_elbo = model.history[\"elbo_train\"][1:]\n",
    "    test_elbo = model.history[\"elbo_validation\"]\n",
    "    ax = train_elbo.plot()\n",
    "    test_elbo.plot(ax=ax)\n",
    "    plt.yscale('log')\n",
    "    plt.savefig(at_train_dir(f'{name}.png'))\n",
    "    plt.title(name)\n",
    "    feats[name] = model.get_latent_representation()\n",
    "    plt.clf()  # plt.show()\n",
    "    del local_adata"
   ]
  },
  {
   "cell_type": "code",
   "execution_count": 23,
   "id": "af4840c0-45fc-4032-b6bf-c5ba8b883ebd",
   "metadata": {},
   "outputs": [
    {
     "data": {
      "text/plain": [
       "{'PCA': array([[ -1.1196005 ,   6.622503  ,  -2.5259159 , ...,  -1.833579  ,\n",
       "          -2.2876647 ,  -0.6665094 ],\n",
       "        [ -7.131651  ,   1.0248331 ,   1.5389104 , ...,  -0.9276155 ,\n",
       "          -1.5275725 ,  -2.2917721 ],\n",
       "        [-10.160202  ,   0.3727494 ,   6.830382  , ...,   1.0274894 ,\n",
       "          -2.3209364 ,   0.53815734],\n",
       "        ...,\n",
       "        [  5.3826294 ,  -1.4552354 ,  -0.98211735, ...,   1.6789066 ,\n",
       "           3.2856157 ,   4.929672  ],\n",
       "        [  8.764949  ,  -5.606997  ,  -1.1607517 , ...,  -5.339203  ,\n",
       "           0.03333269,   0.6223444 ],\n",
       "        [  6.564807  ,  -3.4688787 ,  -3.5198483 , ...,  -0.6038395 ,\n",
       "          -2.4636164 ,   0.09449834]], dtype=float32),\n",
       " 'LinearSCVI_10': array([[-0.02679488, -0.1052369 , -1.7476829 , ..., -1.3801131 ,\n",
       "         -1.6175925 ,  1.0072393 ],\n",
       "        [-1.1210295 ,  0.0494108 , -1.507539  , ...,  0.70321447,\n",
       "         -0.13254239,  0.81325614],\n",
       "        [ 1.3983492 , -0.67633283, -2.347671  , ..., -1.1255838 ,\n",
       "         -0.37167725,  0.24655914],\n",
       "        ...,\n",
       "        [-0.38112596,  0.92716193,  0.50442433, ..., -0.00951241,\n",
       "          1.0085733 , -0.40877458],\n",
       "        [-1.132442  , -0.23322363, -0.62976605, ...,  0.51348674,\n",
       "          1.2460701 , -1.4607328 ],\n",
       "        [-0.05602047,  1.6791537 ,  0.09445085, ...,  0.6925344 ,\n",
       "         -0.7216418 , -1.648374  ]], dtype=float32),\n",
       " 'LinearSCVI_50': array([[-0.5992994 , -0.5983974 , -0.7788822 , ..., -0.6739031 ,\n",
       "          0.8514859 , -0.24299276],\n",
       "        [-0.8401188 ,  0.49503335, -0.6881684 , ...,  0.63197196,\n",
       "          0.32750106,  0.48941815],\n",
       "        [ 0.31549603, -0.41074553,  0.01043773, ..., -1.3540727 ,\n",
       "          1.0136862 , -1.6292416 ],\n",
       "        ...,\n",
       "        [ 0.7561609 ,  0.43950343,  0.76120865, ..., -1.2431841 ,\n",
       "          0.07313026, -0.13733959],\n",
       "        [ 1.039962  , -0.2463682 ,  0.51732695, ..., -0.23073101,\n",
       "         -1.2924573 ,  0.70995414],\n",
       "        [ 0.7282214 , -0.22235155,  0.04553688, ...,  0.8038149 ,\n",
       "          0.16640903, -1.2960888 ]], dtype=float32),\n",
       " 'SCVI_10': array([[-0.90611416, -1.651181  , -0.01090539, ...,  0.46695626,\n",
       "          1.2981346 ,  0.18195128],\n",
       "        [-0.1772604 , -0.3664477 ,  0.2368938 , ...,  0.7624371 ,\n",
       "         -0.51800835,  0.45406866],\n",
       "        [ 1.025406  ,  1.173899  ,  0.4830332 , ..., -0.4100375 ,\n",
       "          0.6635795 ,  0.4419695 ],\n",
       "        ...,\n",
       "        [-2.0338974 ,  0.45191956, -0.8663658 , ...,  1.1698864 ,\n",
       "         -0.43663388, -2.1702363 ],\n",
       "        [ 0.9727137 ,  0.6740073 , -0.01368402, ...,  0.19979304,\n",
       "         -1.7824693 , -1.0543044 ],\n",
       "        [ 0.857371  , -1.3969115 ,  0.05113512, ..., -0.2007525 ,\n",
       "          0.7728122 , -1.3402803 ]], dtype=float32),\n",
       " 'SCVI_50': array([[-1.006689  , -0.690109  ,  0.86681974, ..., -1.8427119 ,\n",
       "          1.1249249 , -0.03629631],\n",
       "        [-1.4397724 , -0.5596812 ,  0.38274246, ...,  0.6492621 ,\n",
       "          1.0242815 , -0.7164623 ],\n",
       "        [ 0.5611636 , -1.8116486 ,  0.55552477, ..., -0.68486816,\n",
       "         -0.9597758 ,  0.16484493],\n",
       "        ...,\n",
       "        [ 0.99398077, -0.44918656,  1.0435746 , ..., -1.2101398 ,\n",
       "          0.01733106,  0.88783854],\n",
       "        [-1.456693  ,  2.3119028 , -0.38121217, ...,  0.42134416,\n",
       "          2.004559  , -0.59899014],\n",
       "        [ 0.85169303,  1.4668555 , -0.8640322 , ...,  0.6122637 ,\n",
       "          1.5944159 ,  0.8318059 ]], dtype=float32)}"
      ]
     },
     "execution_count": 23,
     "metadata": {},
     "output_type": "execute_result"
    }
   ],
   "source": [
    "feats"
   ]
  },
  {
   "cell_type": "code",
   "execution_count": 25,
   "id": "5449ee9b-d44d-464c-b269-7a30e88c6ebc",
   "metadata": {},
   "outputs": [
    {
     "data": {
      "text/plain": [
       "{'PCA': array([[ -1.1196005 ,   6.622503  ,  -2.5259159 , ...,  -1.833579  ,\n",
       "          -2.2876647 ,  -0.6665094 ],\n",
       "        [ -7.131651  ,   1.0248331 ,   1.5389104 , ...,  -0.9276155 ,\n",
       "          -1.5275725 ,  -2.2917721 ],\n",
       "        [-10.160202  ,   0.3727494 ,   6.830382  , ...,   1.0274894 ,\n",
       "          -2.3209364 ,   0.53815734],\n",
       "        ...,\n",
       "        [  5.3826294 ,  -1.4552354 ,  -0.98211735, ...,   1.6789066 ,\n",
       "           3.2856157 ,   4.929672  ],\n",
       "        [  8.764949  ,  -5.606997  ,  -1.1607517 , ...,  -5.339203  ,\n",
       "           0.03333269,   0.6223444 ],\n",
       "        [  6.564807  ,  -3.4688787 ,  -3.5198483 , ...,  -0.6038395 ,\n",
       "          -2.4636164 ,   0.09449834]], dtype=float32),\n",
       " 'LinearSCVI_10': array([[-0.02679488, -0.1052369 , -1.7476829 , ..., -1.3801131 ,\n",
       "         -1.6175925 ,  1.0072393 ],\n",
       "        [-1.1210295 ,  0.0494108 , -1.507539  , ...,  0.70321447,\n",
       "         -0.13254239,  0.81325614],\n",
       "        [ 1.3983492 , -0.67633283, -2.347671  , ..., -1.1255838 ,\n",
       "         -0.37167725,  0.24655914],\n",
       "        ...,\n",
       "        [-0.38112596,  0.92716193,  0.50442433, ..., -0.00951241,\n",
       "          1.0085733 , -0.40877458],\n",
       "        [-1.132442  , -0.23322363, -0.62976605, ...,  0.51348674,\n",
       "          1.2460701 , -1.4607328 ],\n",
       "        [-0.05602047,  1.6791537 ,  0.09445085, ...,  0.6925344 ,\n",
       "         -0.7216418 , -1.648374  ]], dtype=float32),\n",
       " 'LinearSCVI_50': array([[-0.5992994 , -0.5983974 , -0.7788822 , ..., -0.6739031 ,\n",
       "          0.8514859 , -0.24299276],\n",
       "        [-0.8401188 ,  0.49503335, -0.6881684 , ...,  0.63197196,\n",
       "          0.32750106,  0.48941815],\n",
       "        [ 0.31549603, -0.41074553,  0.01043773, ..., -1.3540727 ,\n",
       "          1.0136862 , -1.6292416 ],\n",
       "        ...,\n",
       "        [ 0.7561609 ,  0.43950343,  0.76120865, ..., -1.2431841 ,\n",
       "          0.07313026, -0.13733959],\n",
       "        [ 1.039962  , -0.2463682 ,  0.51732695, ..., -0.23073101,\n",
       "         -1.2924573 ,  0.70995414],\n",
       "        [ 0.7282214 , -0.22235155,  0.04553688, ...,  0.8038149 ,\n",
       "          0.16640903, -1.2960888 ]], dtype=float32),\n",
       " 'SCVI_10': array([[-0.90611416, -1.651181  , -0.01090539, ...,  0.46695626,\n",
       "          1.2981346 ,  0.18195128],\n",
       "        [-0.1772604 , -0.3664477 ,  0.2368938 , ...,  0.7624371 ,\n",
       "         -0.51800835,  0.45406866],\n",
       "        [ 1.025406  ,  1.173899  ,  0.4830332 , ..., -0.4100375 ,\n",
       "          0.6635795 ,  0.4419695 ],\n",
       "        ...,\n",
       "        [-2.0338974 ,  0.45191956, -0.8663658 , ...,  1.1698864 ,\n",
       "         -0.43663388, -2.1702363 ],\n",
       "        [ 0.9727137 ,  0.6740073 , -0.01368402, ...,  0.19979304,\n",
       "         -1.7824693 , -1.0543044 ],\n",
       "        [ 0.857371  , -1.3969115 ,  0.05113512, ..., -0.2007525 ,\n",
       "          0.7728122 , -1.3402803 ]], dtype=float32),\n",
       " 'SCVI_50': array([[-1.006689  , -0.690109  ,  0.86681974, ..., -1.8427119 ,\n",
       "          1.1249249 , -0.03629631],\n",
       "        [-1.4397724 , -0.5596812 ,  0.38274246, ...,  0.6492621 ,\n",
       "          1.0242815 , -0.7164623 ],\n",
       "        [ 0.5611636 , -1.8116486 ,  0.55552477, ..., -0.68486816,\n",
       "         -0.9597758 ,  0.16484493],\n",
       "        ...,\n",
       "        [ 0.99398077, -0.44918656,  1.0435746 , ..., -1.2101398 ,\n",
       "          0.01733106,  0.88783854],\n",
       "        [-1.456693  ,  2.3119028 , -0.38121217, ...,  0.42134416,\n",
       "          2.004559  , -0.59899014],\n",
       "        [ 0.85169303,  1.4668555 , -0.8640322 , ...,  0.6122637 ,\n",
       "          1.5944159 ,  0.8318059 ]], dtype=float32),\n",
       " 'LinearSCVI_25': array([[ 0.6025783 ,  0.768633  , -0.98802125, ..., -1.2910609 ,\n",
       "         -0.4727957 ,  0.15091127],\n",
       "        [ 0.32890898,  0.7120158 ,  0.8110244 , ...,  2.1986477 ,\n",
       "         -0.54197264,  0.6702591 ],\n",
       "        [ 0.41369873, -0.9360542 , -0.69252884, ..., -0.79509616,\n",
       "          0.23863494,  1.4488723 ],\n",
       "        ...,\n",
       "        [-0.5877673 ,  0.17872916, -0.04708481, ...,  0.36424273,\n",
       "         -0.50100195, -0.04306448],\n",
       "        [ 0.21533556,  0.21336325,  0.82505643, ...,  1.5046837 ,\n",
       "         -0.6507145 ,  0.8487228 ],\n",
       "        [ 0.9097314 , -0.2737549 ,  1.5210564 , ...,  1.3888295 ,\n",
       "         -0.435537  , -0.10675299]], dtype=float32),\n",
       " 'SCVI_25': array([[-1.8187600e-01, -2.0157811e-01, -1.4298483e+00, ...,\n",
       "         -1.0984495e+00, -8.1528151e-01, -1.2073736e+00],\n",
       "        [-1.3978066e+00, -1.6614364e+00, -8.3467007e-02, ...,\n",
       "         -1.3353705e+00,  1.1632016e+00,  4.6255440e-02],\n",
       "        [ 6.0728425e-01,  9.2502534e-01,  2.2852683e-01, ...,\n",
       "         -1.7817433e+00, -2.6080310e-01, -3.1676763e-01],\n",
       "        ...,\n",
       "        [-1.9276947e-01,  2.9680702e-01,  2.1824374e+00, ...,\n",
       "          7.5864792e-04, -5.0253344e-01, -9.6828371e-02],\n",
       "        [ 1.5456122e-01, -1.2008032e+00,  6.7558575e-01, ...,\n",
       "          9.0505576e-01, -1.0492046e+00,  1.2872639e-01],\n",
       "        [-1.4384604e-01,  2.8469381e-01,  4.5568824e-01, ...,\n",
       "          1.8245924e-01, -9.3185037e-02, -4.3396145e-01]], dtype=float32)}"
      ]
     },
     "execution_count": 25,
     "metadata": {},
     "output_type": "execute_result"
    }
   ],
   "source": [
    "feats"
   ]
  },
  {
   "cell_type": "markdown",
   "id": "14638a7b-6ecb-4d87-9e78-b65e140c6c09",
   "metadata": {},
   "source": [
    "Prepare directories"
   ]
  },
  {
   "cell_type": "code",
   "execution_count": 26,
   "id": "7b3855f2-1ce3-4f83-9f01-0b7ce0021a90",
   "metadata": {
    "tags": []
   },
   "outputs": [],
   "source": [
    "np.savez_compressed(fname, **feats)"
   ]
  },
  {
   "cell_type": "code",
   "execution_count": 7,
   "id": "070c825f-8205-47de-9ea8-18eee3db585a",
   "metadata": {
    "tags": []
   },
   "outputs": [
    {
     "data": {
      "text/plain": [
       "array(49)"
      ]
     },
     "execution_count": 7,
     "metadata": {},
     "output_type": "execute_result"
    }
   ],
   "source": [
    "\n",
    "fname = os.path.join( root_path, 'figures', 'ablation', 'optimal_NUM_PCS_KS_dict.npz')\n",
    "optimal_ks = files.load_npz(fname)\n",
    "k = optimal_ks[exp_name]\n"
   ]
  },
  {
   "cell_type": "markdown",
   "id": "429dc269-0ae7-440c-bcf8-f8cfd547be28",
   "metadata": {},
   "source": [
    "# Generate dim reduced features"
   ]
  },
  {
   "cell_type": "code",
   "execution_count": 5,
   "id": "6c01db65-2341-451e-826e-7e12481a2602",
   "metadata": {
    "tags": []
   },
   "outputs": [],
   "source": [
    "feats = {}"
   ]
  },
  {
   "cell_type": "markdown",
   "id": "bb7aee72-8001-4a28-88d6-4c389fed5835",
   "metadata": {},
   "source": [
    "## PCA"
   ]
  },
  {
   "cell_type": "code",
   "execution_count": 6,
   "id": "1f13866e-5002-4f7e-a9ef-15c2536ecaf0",
   "metadata": {
    "tags": []
   },
   "outputs": [],
   "source": [
    "x_pca = hiddensc.models.get_pca(adata)\n",
    "feats['PCA'] = x_pca"
   ]
  },
  {
   "cell_type": "markdown",
   "id": "42f02a25-2c91-4e47-8a4f-015c54e1c30b",
   "metadata": {
    "tags": []
   },
   "source": [
    "## SCVI / LinearSCVI"
   ]
  },
  {
   "cell_type": "code",
   "execution_count": 7,
   "id": "a5d39593-e0f9-414e-89e5-5d88a6ea2d9d",
   "metadata": {
    "tags": []
   },
   "outputs": [
    {
     "name": "stderr",
     "output_type": "stream",
     "text": [
      "  0%|                                                     | 0/2 [00:00<?, ?it/s]No GPU/TPU found, falling back to CPU. (Set TF_CPP_MIN_LOG_LEVEL=0 and rerun for more info.)\n",
      "GPU available: False, used: False\n",
      "TPU available: False, using: 0 TPU cores\n",
      "IPU available: False, using: 0 IPUs\n",
      "HPU available: False, using: 0 HPUs\n"
     ]
    },
    {
     "name": "stdout",
     "output_type": "stream",
     "text": [
      "Epoch 250/250: 100%|██| 250/250 [17:32<00:00,  4.22s/it, loss=2.23e+03, v_num=1]"
     ]
    },
    {
     "name": "stderr",
     "output_type": "stream",
     "text": [
      "`Trainer.fit` stopped: `max_epochs=250` reached.\n"
     ]
    },
    {
     "name": "stdout",
     "output_type": "stream",
     "text": [
      "Epoch 250/250: 100%|██| 250/250 [17:32<00:00,  4.21s/it, loss=2.23e+03, v_num=1]\n"
     ]
    },
    {
     "name": "stderr",
     "output_type": "stream",
     "text": [
      " 50%|█████████████████████▌                     | 1/2 [17:35<17:35, 1055.01s/it]GPU available: False, used: False\n",
      "TPU available: False, using: 0 TPU cores\n",
      "IPU available: False, using: 0 IPUs\n",
      "HPU available: False, using: 0 HPUs\n"
     ]
    },
    {
     "name": "stdout",
     "output_type": "stream",
     "text": [
      "Epoch 216/250:  86%|▊| 215/250 [2:08:54<2:18:30, 237.45s/it, loss=1.89e+03, v_nu"
     ]
    },
    {
     "name": "stderr",
     "output_type": "stream",
     "text": [
      "/home/beangoben/miniconda/envs/hidden/lib/python3.10/site-packages/pytorch_lightning/trainer/call.py:48: UserWarning: Detected KeyboardInterrupt, attempting graceful shutdown...\n",
      "  rank_zero_warn(\"Detected KeyboardInterrupt, attempting graceful shutdown...\")\n",
      "100%|█████████████████████████████████████████| 2/2 [2:26:32<00:00, 4396.33s/it]\n"
     ]
    },
    {
     "data": {
      "text/plain": [
       "<Figure size 1200x800 with 0 Axes>"
      ]
     },
     "metadata": {},
     "output_type": "display_data"
    },
    {
     "data": {
      "text/plain": [
       "<Figure size 1200x800 with 0 Axes>"
      ]
     },
     "metadata": {},
     "output_type": "display_data"
    }
   ],
   "source": [
    "n_epochs = 250\n",
    "\n",
    "model_classes = [scvi.model.LinearSCVI, scvi.model.SCVI]\n",
    "ks = [10]#, 20, 30, 40, 50]\n",
    "combos = list(itertools.product(model_classes, ks))\n",
    "\n",
    "for model_cls, k in tqdm(combos):\n",
    "    local_adata = adata.copy()\n",
    "    name = f'{model_cls.__name__}_{k}'\n",
    "    model_cls.setup_anndata(local_adata, layer=\"counts\")\n",
    "    model = model_cls(local_adata, n_latent=k)\n",
    "    model.train(max_epochs=n_epochs, plan_kwargs={\"lr\": 5e-3}, check_val_every_n_epoch=5)\n",
    "    train_elbo = model.history[\"elbo_train\"][1:]\n",
    "    test_elbo = model.history[\"elbo_validation\"]\n",
    "    ax = train_elbo.plot()\n",
    "    test_elbo.plot(ax=ax)\n",
    "    plt.yscale('log')\n",
    "    plt.savefig(at_train_dir(f'{name}.png'))\n",
    "    plt.title(name)\n",
    "    feats[name] = model.get_latent_representation()\n",
    "    #plt.show()\n",
    "    plt.clf()\n",
    "    del local_adata"
   ]
  },
  {
   "cell_type": "code",
   "execution_count": 11,
   "id": "f92d88aa-280c-47c4-98d1-450f0ebc6987",
   "metadata": {
    "tags": []
   },
   "outputs": [],
   "source": [
    "fname = at_results_dir('features.npz')\n",
    "np.savez_compressed(fname, **feats)"
   ]
  },
  {
   "cell_type": "markdown",
   "id": "c21bace9-a66c-4e04-9d4a-f3e0df38b1bd",
   "metadata": {},
   "source": [
    "# Generate predictions"
   ]
  },
  {
   "cell_type": "code",
   "execution_count": 9,
   "id": "8fc22bb4-c51e-433f-b301-38a18f53ff26",
   "metadata": {
    "tags": []
   },
   "outputs": [
    {
     "name": "stderr",
     "output_type": "stream",
     "text": [
      "\n",
      "  0%|                                                     | 0/6 [00:00<?, ?it/s]\u001b[A\n",
      " 17%|███████▌                                     | 1/6 [00:00<00:00,  5.54it/s]\u001b[A\n",
      " 33%|███████████████                              | 2/6 [00:27<01:04, 16.14s/it]\u001b[A\n",
      " 67%|██████████████████████████████               | 4/6 [00:28<00:12,  6.40s/it]\u001b[A\n",
      "100%|█████████████████████████████████████████████| 6/6 [00:29<00:00,  5.00s/it]\u001b[A\n"
     ]
    },
    {
     "data": {
      "text/html": [
       "<div>\n",
       "<style scoped>\n",
       "    .dataframe tbody tr th:only-of-type {\n",
       "        vertical-align: middle;\n",
       "    }\n",
       "\n",
       "    .dataframe tbody tr th {\n",
       "        vertical-align: top;\n",
       "    }\n",
       "\n",
       "    .dataframe thead tr th {\n",
       "        text-align: left;\n",
       "    }\n",
       "\n",
       "    .dataframe thead tr:last-of-type th {\n",
       "        text-align: right;\n",
       "    }\n",
       "</style>\n",
       "<table border=\"1\" class=\"dataframe\">\n",
       "  <thead>\n",
       "    <tr>\n",
       "      <th></th>\n",
       "      <th>batch</th>\n",
       "      <th>perturbed</th>\n",
       "      <th colspan=\"4\" halign=\"left\">PCA</th>\n",
       "      <th colspan=\"4\" halign=\"left\">LinearSCVI_10</th>\n",
       "      <th colspan=\"4\" halign=\"left\">SCVI_10</th>\n",
       "    </tr>\n",
       "    <tr>\n",
       "      <th></th>\n",
       "      <th></th>\n",
       "      <th></th>\n",
       "      <th colspan=\"2\" halign=\"left\">linear</th>\n",
       "      <th colspan=\"2\" halign=\"left\">svm</th>\n",
       "      <th colspan=\"2\" halign=\"left\">linear</th>\n",
       "      <th colspan=\"2\" halign=\"left\">svm</th>\n",
       "      <th colspan=\"2\" halign=\"left\">linear</th>\n",
       "      <th colspan=\"2\" halign=\"left\">svm</th>\n",
       "    </tr>\n",
       "    <tr>\n",
       "      <th></th>\n",
       "      <th>Case</th>\n",
       "      <th>Memory B</th>\n",
       "      <th>p_hat</th>\n",
       "      <th>p_label</th>\n",
       "      <th>p_hat</th>\n",
       "      <th>p_label</th>\n",
       "      <th>p_hat</th>\n",
       "      <th>p_label</th>\n",
       "      <th>p_hat</th>\n",
       "      <th>p_label</th>\n",
       "      <th>p_hat</th>\n",
       "      <th>p_label</th>\n",
       "      <th>p_hat</th>\n",
       "      <th>p_label</th>\n",
       "    </tr>\n",
       "    <tr>\n",
       "      <th>barcodes</th>\n",
       "      <th></th>\n",
       "      <th></th>\n",
       "      <th></th>\n",
       "      <th></th>\n",
       "      <th></th>\n",
       "      <th></th>\n",
       "      <th></th>\n",
       "      <th></th>\n",
       "      <th></th>\n",
       "      <th></th>\n",
       "      <th></th>\n",
       "      <th></th>\n",
       "      <th></th>\n",
       "      <th></th>\n",
       "    </tr>\n",
       "  </thead>\n",
       "  <tbody>\n",
       "    <tr>\n",
       "      <th>naiveB_a_AAACCTGCACGGTAGA-1</th>\n",
       "      <td>1.0</td>\n",
       "      <td>0.0</td>\n",
       "      <td>0.493125</td>\n",
       "      <td>0.0</td>\n",
       "      <td>0.500000</td>\n",
       "      <td>1.0</td>\n",
       "      <td>0.522950</td>\n",
       "      <td>1.0</td>\n",
       "      <td>0.519707</td>\n",
       "      <td>1.0</td>\n",
       "      <td>0.525948</td>\n",
       "      <td>1.0</td>\n",
       "      <td>0.511121</td>\n",
       "      <td>1.0</td>\n",
       "    </tr>\n",
       "    <tr>\n",
       "      <th>naiveB_a_AAACCTGCAGATGGGT-1</th>\n",
       "      <td>1.0</td>\n",
       "      <td>0.0</td>\n",
       "      <td>0.395382</td>\n",
       "      <td>0.0</td>\n",
       "      <td>0.468766</td>\n",
       "      <td>0.0</td>\n",
       "      <td>0.432583</td>\n",
       "      <td>0.0</td>\n",
       "      <td>0.470591</td>\n",
       "      <td>0.0</td>\n",
       "      <td>0.430635</td>\n",
       "      <td>0.0</td>\n",
       "      <td>0.469353</td>\n",
       "      <td>0.0</td>\n",
       "    </tr>\n",
       "    <tr>\n",
       "      <th>naiveB_a_AAAGATGCATTTCAGG-1</th>\n",
       "      <td>0.0</td>\n",
       "      <td>0.0</td>\n",
       "      <td>0.359442</td>\n",
       "      <td>0.0</td>\n",
       "      <td>0.464822</td>\n",
       "      <td>0.0</td>\n",
       "      <td>0.461520</td>\n",
       "      <td>0.0</td>\n",
       "      <td>0.487306</td>\n",
       "      <td>0.0</td>\n",
       "      <td>0.540256</td>\n",
       "      <td>0.0</td>\n",
       "      <td>0.511193</td>\n",
       "      <td>1.0</td>\n",
       "    </tr>\n",
       "    <tr>\n",
       "      <th>naiveB_a_AAAGCAAAGCCAACAG-1</th>\n",
       "      <td>0.0</td>\n",
       "      <td>0.0</td>\n",
       "      <td>0.478047</td>\n",
       "      <td>0.0</td>\n",
       "      <td>0.500000</td>\n",
       "      <td>0.0</td>\n",
       "      <td>0.443951</td>\n",
       "      <td>0.0</td>\n",
       "      <td>0.470765</td>\n",
       "      <td>0.0</td>\n",
       "      <td>0.463140</td>\n",
       "      <td>0.0</td>\n",
       "      <td>0.489425</td>\n",
       "      <td>0.0</td>\n",
       "    </tr>\n",
       "    <tr>\n",
       "      <th>naiveB_a_AAAGCAAAGTGCCATT-1</th>\n",
       "      <td>1.0</td>\n",
       "      <td>0.0</td>\n",
       "      <td>0.512292</td>\n",
       "      <td>0.0</td>\n",
       "      <td>0.500000</td>\n",
       "      <td>1.0</td>\n",
       "      <td>0.516501</td>\n",
       "      <td>0.0</td>\n",
       "      <td>0.500000</td>\n",
       "      <td>0.0</td>\n",
       "      <td>0.408716</td>\n",
       "      <td>0.0</td>\n",
       "      <td>0.459262</td>\n",
       "      <td>0.0</td>\n",
       "    </tr>\n",
       "    <tr>\n",
       "      <th>...</th>\n",
       "      <td>...</td>\n",
       "      <td>...</td>\n",
       "      <td>...</td>\n",
       "      <td>...</td>\n",
       "      <td>...</td>\n",
       "      <td>...</td>\n",
       "      <td>...</td>\n",
       "      <td>...</td>\n",
       "      <td>...</td>\n",
       "      <td>...</td>\n",
       "      <td>...</td>\n",
       "      <td>...</td>\n",
       "      <td>...</td>\n",
       "      <td>...</td>\n",
       "    </tr>\n",
       "    <tr>\n",
       "      <th>memoryB_b_TCAGCTCAGCGTGTCC-1</th>\n",
       "      <td>1.0</td>\n",
       "      <td>1.0</td>\n",
       "      <td>0.674898</td>\n",
       "      <td>1.0</td>\n",
       "      <td>0.534335</td>\n",
       "      <td>1.0</td>\n",
       "      <td>0.655323</td>\n",
       "      <td>1.0</td>\n",
       "      <td>0.549441</td>\n",
       "      <td>1.0</td>\n",
       "      <td>0.552394</td>\n",
       "      <td>1.0</td>\n",
       "      <td>0.515062</td>\n",
       "      <td>1.0</td>\n",
       "    </tr>\n",
       "    <tr>\n",
       "      <th>memoryB_b_TCATTTGAGTCACGCC-1</th>\n",
       "      <td>1.0</td>\n",
       "      <td>1.0</td>\n",
       "      <td>0.676409</td>\n",
       "      <td>1.0</td>\n",
       "      <td>0.532120</td>\n",
       "      <td>1.0</td>\n",
       "      <td>0.520891</td>\n",
       "      <td>1.0</td>\n",
       "      <td>0.493158</td>\n",
       "      <td>0.0</td>\n",
       "      <td>0.584988</td>\n",
       "      <td>1.0</td>\n",
       "      <td>0.528655</td>\n",
       "      <td>1.0</td>\n",
       "    </tr>\n",
       "    <tr>\n",
       "      <th>memoryB_b_TCATTTGTCAGTTGAC-1</th>\n",
       "      <td>1.0</td>\n",
       "      <td>1.0</td>\n",
       "      <td>0.648580</td>\n",
       "      <td>1.0</td>\n",
       "      <td>0.532733</td>\n",
       "      <td>1.0</td>\n",
       "      <td>0.561100</td>\n",
       "      <td>1.0</td>\n",
       "      <td>0.524815</td>\n",
       "      <td>1.0</td>\n",
       "      <td>0.567481</td>\n",
       "      <td>1.0</td>\n",
       "      <td>0.527113</td>\n",
       "      <td>1.0</td>\n",
       "    </tr>\n",
       "    <tr>\n",
       "      <th>memoryB_b_TCGAGGCGTTACGGAG-1</th>\n",
       "      <td>1.0</td>\n",
       "      <td>1.0</td>\n",
       "      <td>0.701302</td>\n",
       "      <td>1.0</td>\n",
       "      <td>0.544463</td>\n",
       "      <td>1.0</td>\n",
       "      <td>0.724840</td>\n",
       "      <td>1.0</td>\n",
       "      <td>0.587956</td>\n",
       "      <td>1.0</td>\n",
       "      <td>0.598753</td>\n",
       "      <td>1.0</td>\n",
       "      <td>0.534616</td>\n",
       "      <td>1.0</td>\n",
       "    </tr>\n",
       "    <tr>\n",
       "      <th>memoryB_b_TGGCGCAAGCAGATCG-1</th>\n",
       "      <td>1.0</td>\n",
       "      <td>1.0</td>\n",
       "      <td>0.560128</td>\n",
       "      <td>1.0</td>\n",
       "      <td>0.513558</td>\n",
       "      <td>1.0</td>\n",
       "      <td>0.562956</td>\n",
       "      <td>1.0</td>\n",
       "      <td>0.524924</td>\n",
       "      <td>1.0</td>\n",
       "      <td>0.497072</td>\n",
       "      <td>0.0</td>\n",
       "      <td>0.500000</td>\n",
       "      <td>0.0</td>\n",
       "    </tr>\n",
       "  </tbody>\n",
       "</table>\n",
       "<p>1949 rows × 14 columns</p>\n",
       "</div>"
      ],
      "text/plain": [
       "                             batch perturbed       PCA                    \\\n",
       "                                                linear               svm   \n",
       "                              Case  Memory B     p_hat p_label     p_hat   \n",
       "barcodes                                                                   \n",
       "naiveB_a_AAACCTGCACGGTAGA-1    1.0       0.0  0.493125     0.0  0.500000   \n",
       "naiveB_a_AAACCTGCAGATGGGT-1    1.0       0.0  0.395382     0.0  0.468766   \n",
       "naiveB_a_AAAGATGCATTTCAGG-1    0.0       0.0  0.359442     0.0  0.464822   \n",
       "naiveB_a_AAAGCAAAGCCAACAG-1    0.0       0.0  0.478047     0.0  0.500000   \n",
       "naiveB_a_AAAGCAAAGTGCCATT-1    1.0       0.0  0.512292     0.0  0.500000   \n",
       "...                            ...       ...       ...     ...       ...   \n",
       "memoryB_b_TCAGCTCAGCGTGTCC-1   1.0       1.0  0.674898     1.0  0.534335   \n",
       "memoryB_b_TCATTTGAGTCACGCC-1   1.0       1.0  0.676409     1.0  0.532120   \n",
       "memoryB_b_TCATTTGTCAGTTGAC-1   1.0       1.0  0.648580     1.0  0.532733   \n",
       "memoryB_b_TCGAGGCGTTACGGAG-1   1.0       1.0  0.701302     1.0  0.544463   \n",
       "memoryB_b_TGGCGCAAGCAGATCG-1   1.0       1.0  0.560128     1.0  0.513558   \n",
       "\n",
       "                                     LinearSCVI_10                            \\\n",
       "                                            linear               svm           \n",
       "                             p_label         p_hat p_label     p_hat p_label   \n",
       "barcodes                                                                       \n",
       "naiveB_a_AAACCTGCACGGTAGA-1      1.0      0.522950     1.0  0.519707     1.0   \n",
       "naiveB_a_AAACCTGCAGATGGGT-1      0.0      0.432583     0.0  0.470591     0.0   \n",
       "naiveB_a_AAAGATGCATTTCAGG-1      0.0      0.461520     0.0  0.487306     0.0   \n",
       "naiveB_a_AAAGCAAAGCCAACAG-1      0.0      0.443951     0.0  0.470765     0.0   \n",
       "naiveB_a_AAAGCAAAGTGCCATT-1      1.0      0.516501     0.0  0.500000     0.0   \n",
       "...                              ...           ...     ...       ...     ...   \n",
       "memoryB_b_TCAGCTCAGCGTGTCC-1     1.0      0.655323     1.0  0.549441     1.0   \n",
       "memoryB_b_TCATTTGAGTCACGCC-1     1.0      0.520891     1.0  0.493158     0.0   \n",
       "memoryB_b_TCATTTGTCAGTTGAC-1     1.0      0.561100     1.0  0.524815     1.0   \n",
       "memoryB_b_TCGAGGCGTTACGGAG-1     1.0      0.724840     1.0  0.587956     1.0   \n",
       "memoryB_b_TGGCGCAAGCAGATCG-1     1.0      0.562956     1.0  0.524924     1.0   \n",
       "\n",
       "                               SCVI_10                            \n",
       "                                linear               svm          \n",
       "                                 p_hat p_label     p_hat p_label  \n",
       "barcodes                                                          \n",
       "naiveB_a_AAACCTGCACGGTAGA-1   0.525948     1.0  0.511121     1.0  \n",
       "naiveB_a_AAACCTGCAGATGGGT-1   0.430635     0.0  0.469353     0.0  \n",
       "naiveB_a_AAAGATGCATTTCAGG-1   0.540256     0.0  0.511193     1.0  \n",
       "naiveB_a_AAAGCAAAGCCAACAG-1   0.463140     0.0  0.489425     0.0  \n",
       "naiveB_a_AAAGCAAAGTGCCATT-1   0.408716     0.0  0.459262     0.0  \n",
       "...                                ...     ...       ...     ...  \n",
       "memoryB_b_TCAGCTCAGCGTGTCC-1  0.552394     1.0  0.515062     1.0  \n",
       "memoryB_b_TCATTTGAGTCACGCC-1  0.584988     1.0  0.528655     1.0  \n",
       "memoryB_b_TCATTTGTCAGTTGAC-1  0.567481     1.0  0.527113     1.0  \n",
       "memoryB_b_TCGAGGCGTTACGGAG-1  0.598753     1.0  0.534616     1.0  \n",
       "memoryB_b_TGGCGCAAGCAGATCG-1  0.497072     0.0  0.500000     0.0  \n",
       "\n",
       "[1949 rows x 14 columns]"
      ]
     },
     "execution_count": 9,
     "metadata": {},
     "output_type": "execute_result"
    }
   ],
   "source": [
    "from sklearn.exceptions import ConvergenceWarning\n",
    "import warnings\n",
    "warnings.simplefilter(\"ignore\", category=ConvergenceWarning)\n",
    "\n",
    "\n",
    "feats = files.load_npz(at_results_dir('features.npz'))\n",
    "y = (adata.obs['batch'].values == 'Case').astype(np.int32)\n",
    "y_true = (adata.obs['perturbed'].values == 'Memory B').astype(np.int32)\n",
    "ids = adata.obs['barcodes'].values\n",
    "pred_fns = {'linear': hiddensc.models.linear_predictions,\n",
    "              'svm': hiddensc.models.svm_predictions}\n",
    "\n",
    "preds = [y, y_true]\n",
    "info = [('batch', '','Case'), ('perturbed', '','Memory B')]\n",
    "combos = list(itertools.product(feats.keys(), pred_fns.keys()))\n",
    "\n",
    "for feat_name, strat_name  in tqdm(combos):\n",
    "    rand_state=0\n",
    "    x = feats[feat_name]\n",
    "    p_hat, p_labels = pred_fns[strat_name](x, y, 1, rand_state)\n",
    "    preds.append(p_hat)\n",
    "    info.append((feat_name, strat_name, 'p_hat'))\n",
    "    preds.append(p_labels)\n",
    "    info.append((feat_name, strat_name, 'p_label'))\n",
    "    \n",
    "cols = pd.MultiIndex.from_tuples(info)\n",
    "pred_df = pd.DataFrame(np.array(preds).T, index=adata.obs['barcodes'], columns=cols)\n",
    "pred_df.to_csv(at_results_dir('predictions.csv'))\n",
    "pred_df"
   ]
  },
  {
   "cell_type": "markdown",
   "id": "c4f096e3-a453-4e90-8507-51a777cbea62",
   "metadata": {},
   "source": [
    "# Generate performance stats"
   ]
  },
  {
   "cell_type": "code",
   "execution_count": 12,
   "id": "f79458d5-3c6f-449d-88c9-401d23c5931a",
   "metadata": {
    "tags": []
   },
   "outputs": [
    {
     "data": {
      "text/html": [
       "<div>\n",
       "<style scoped>\n",
       "    .dataframe tbody tr th:only-of-type {\n",
       "        vertical-align: middle;\n",
       "    }\n",
       "\n",
       "    .dataframe tbody tr th {\n",
       "        vertical-align: top;\n",
       "    }\n",
       "\n",
       "    .dataframe thead th {\n",
       "        text-align: right;\n",
       "    }\n",
       "</style>\n",
       "<table border=\"1\" class=\"dataframe\">\n",
       "  <thead>\n",
       "    <tr style=\"text-align: right;\">\n",
       "      <th></th>\n",
       "      <th>exp</th>\n",
       "      <th>dim_reduce</th>\n",
       "      <th>method</th>\n",
       "      <th>AUCROC</th>\n",
       "      <th>AP</th>\n",
       "      <th>Recall</th>\n",
       "      <th>Precision</th>\n",
       "      <th>F1</th>\n",
       "    </tr>\n",
       "  </thead>\n",
       "  <tbody>\n",
       "    <tr>\n",
       "      <th>0</th>\n",
       "      <td>naiveB_1900_memoryB_49</td>\n",
       "      <td>LinearSCVI_10</td>\n",
       "      <td>linear</td>\n",
       "      <td>0.920827</td>\n",
       "      <td>0.339665</td>\n",
       "      <td>0.938776</td>\n",
       "      <td>0.130682</td>\n",
       "      <td>0.229426</td>\n",
       "    </tr>\n",
       "    <tr>\n",
       "      <th>1</th>\n",
       "      <td>naiveB_1900_memoryB_49</td>\n",
       "      <td>LinearSCVI_10</td>\n",
       "      <td>svm</td>\n",
       "      <td>0.888733</td>\n",
       "      <td>0.288445</td>\n",
       "      <td>0.877551</td>\n",
       "      <td>0.059474</td>\n",
       "      <td>0.111399</td>\n",
       "    </tr>\n",
       "    <tr>\n",
       "      <th>2</th>\n",
       "      <td>naiveB_1900_memoryB_49</td>\n",
       "      <td>PCA</td>\n",
       "      <td>linear</td>\n",
       "      <td>0.896885</td>\n",
       "      <td>0.211313</td>\n",
       "      <td>0.918367</td>\n",
       "      <td>0.104651</td>\n",
       "      <td>0.187891</td>\n",
       "    </tr>\n",
       "    <tr>\n",
       "      <th>3</th>\n",
       "      <td>naiveB_1900_memoryB_49</td>\n",
       "      <td>PCA</td>\n",
       "      <td>svm</td>\n",
       "      <td>0.863663</td>\n",
       "      <td>0.143348</td>\n",
       "      <td>0.938776</td>\n",
       "      <td>0.049516</td>\n",
       "      <td>0.094070</td>\n",
       "    </tr>\n",
       "    <tr>\n",
       "      <th>4</th>\n",
       "      <td>naiveB_1900_memoryB_49</td>\n",
       "      <td>SCVI_10</td>\n",
       "      <td>linear</td>\n",
       "      <td>0.807981</td>\n",
       "      <td>0.143701</td>\n",
       "      <td>0.795918</td>\n",
       "      <td>0.098485</td>\n",
       "      <td>0.175281</td>\n",
       "    </tr>\n",
       "    <tr>\n",
       "      <th>5</th>\n",
       "      <td>naiveB_1900_memoryB_49</td>\n",
       "      <td>SCVI_10</td>\n",
       "      <td>svm</td>\n",
       "      <td>0.769882</td>\n",
       "      <td>0.113433</td>\n",
       "      <td>0.816327</td>\n",
       "      <td>0.043956</td>\n",
       "      <td>0.083420</td>\n",
       "    </tr>\n",
       "  </tbody>\n",
       "</table>\n",
       "</div>"
      ],
      "text/plain": [
       "                      exp     dim_reduce  method    AUCROC        AP  \\\n",
       "0  naiveB_1900_memoryB_49  LinearSCVI_10  linear  0.920827  0.339665   \n",
       "1  naiveB_1900_memoryB_49  LinearSCVI_10     svm  0.888733  0.288445   \n",
       "2  naiveB_1900_memoryB_49            PCA  linear  0.896885  0.211313   \n",
       "3  naiveB_1900_memoryB_49            PCA     svm  0.863663  0.143348   \n",
       "4  naiveB_1900_memoryB_49        SCVI_10  linear  0.807981  0.143701   \n",
       "5  naiveB_1900_memoryB_49        SCVI_10     svm  0.769882  0.113433   \n",
       "\n",
       "     Recall  Precision        F1  \n",
       "0  0.938776   0.130682  0.229426  \n",
       "1  0.877551   0.059474  0.111399  \n",
       "2  0.918367   0.104651  0.187891  \n",
       "3  0.938776   0.049516  0.094070  \n",
       "4  0.795918   0.098485  0.175281  \n",
       "5  0.816327   0.043956  0.083420  "
      ]
     },
     "execution_count": 12,
     "metadata": {},
     "output_type": "execute_result"
    }
   ],
   "source": [
    "batch, perturbed, pred_df = files.load_predictions(at_results_dir('predictions.csv'))\n",
    "results = []\n",
    "for (dim_reduce, method), grp_df in pred_df.groupby(axis=1, level=[0,1]):\n",
    "    p_hat = grp_df[(dim_reduce, method, 'p_hat')]\n",
    "    p_label = grp_df[(dim_reduce, method, 'p_label')]\n",
    "    stat = {'exp':exp_name, \n",
    "            'dim_reduce': dim_reduce,\n",
    "            'method': method}\n",
    "    stat.update(hiddensc.metrics.evaluate_classification(perturbed, p_hat, p_label))\n",
    "    results.append(stat)\n",
    "\n",
    "results_df = pd.DataFrame(results)\n",
    "results_df.to_csv(at_results_dir('classification_stats.csv'), index=False)\n",
    "results_df "
   ]
  },
  {
   "cell_type": "code",
   "execution_count": 10,
   "id": "860cef92-38c2-4320-a240-2a02fbba7f47",
   "metadata": {
    "tags": []
   },
   "outputs": [
    {
     "data": {
      "text/plain": [
       "{'naive_DEs': array(['IGHD', 'TCL1A', 'CXCR4', 'CD74', 'BTG1', 'RPL18A'], dtype=object),\n",
       " 'memory_DEs': array(['B2M', 'COTL1', 'RPS14', 'EEF1A1', 'ITGB1', 'IGHA1', 'CLECL1'],\n",
       "       dtype=object),\n",
       " 'control_DEs': array([], dtype=object),\n",
       " 'case_DEs': array([], dtype=object),\n",
       " 'HiDDEN_0_DEs': array(['BTG1', 'CXCR4', 'TMSB4X', 'MT-ATP6', 'IGHD', 'HMGB1'],\n",
       "       dtype=object),\n",
       " 'HiDDEN_1_DEs': array(['EEF2', 'EEF1A1', 'RPS4X', 'SLC25A6', 'RPL23A'], dtype=object)}"
      ]
     },
     "execution_count": 10,
     "metadata": {},
     "output_type": "execute_result"
    }
   ],
   "source": [
    "dict(np.load(at_figure_dir('DE_results.npz'), allow_pickle=True))"
   ]
  },
  {
   "cell_type": "markdown",
   "id": "c8c2a127-4f23-435e-a647-52502e03d15b",
   "metadata": {
    "tags": []
   },
   "source": [
    "# Get DE gene statistics\n",
    "\n",
    "First \"true\" genes"
   ]
  },
  {
   "cell_type": "code",
   "execution_count": 13,
   "id": "618e6d55-7f16-4461-8d7a-202374306295",
   "metadata": {
    "tags": []
   },
   "outputs": [
    {
     "data": {
      "text/plain": [
       "{'Memory B': array(['B2M', 'COTL1', 'RPS14', 'EEF1A1', 'ITGB1', 'IGHA1', 'CLECL1',\n",
       "        'HLA-C'], dtype='<U6'),\n",
       " 'Naive B': array(['IGHD', 'TCL1A', 'CXCR4', 'CD74', 'BTG1', 'RPL18A'], dtype='<U6'),\n",
       " 'Case': array([], dtype='<U1'),\n",
       " 'Control': array([], dtype='<U1')}"
      ]
     },
     "execution_count": 13,
     "metadata": {},
     "output_type": "execute_result"
    }
   ],
   "source": [
    "de_genes = hiddensc.datasets.get_de_genes(adata, 'perturbed')\n",
    "de_genes.update(hiddensc.datasets.get_de_genes(adata, 'batch'))\n",
    "de_genes"
   ]
  },
  {
   "cell_type": "code",
   "execution_count": 14,
   "id": "56a2dee6-3093-445a-9f60-f7ca9db12e4d",
   "metadata": {
    "tags": []
   },
   "outputs": [],
   "source": [
    "results = []\n",
    "info = {'exp_name':exp_name,\n",
    "        'True labels': 'Naive B/Memory B',\n",
    "        'Compare_labels': 'Control/Case', 'info':''}\n",
    "info.update(hiddensc.metrics.evaluate_de_genes(de_genes, 'Naive B', 'Memory B', 'Control', 'Case'))\n",
    "results.append(info)"
   ]
  },
  {
   "cell_type": "code",
   "execution_count": 15,
   "id": "7d916111-fdb5-4352-9d87-1c162cb58eeb",
   "metadata": {
    "tags": []
   },
   "outputs": [
    {
     "data": {
      "text/plain": [
       "{'Memory B': array(['B2M', 'COTL1', 'RPS14', 'EEF1A1', 'ITGB1', 'IGHA1', 'CLECL1',\n",
       "        'HLA-C'], dtype='<U6'),\n",
       " 'Naive B': array(['IGHD', 'TCL1A', 'CXCR4', 'CD74', 'BTG1', 'RPL18A'], dtype='<U6'),\n",
       " 'Case': array([], dtype='<U1'),\n",
       " 'Control': array([], dtype='<U1'),\n",
       " 'HiDDEN_0': array(['BTG1', 'MT-ATP6', 'CD74', 'TMSB4X', 'MT-CO2', 'CXCR4', 'IGHD'],\n",
       "       dtype='<U7'),\n",
       " 'HiDDEN_1': array(['EEF2', 'EEF1A1', 'RPS4X', 'SLC25A6', 'RPL23A', 'RPS8', 'RPL11'],\n",
       "       dtype='<U7')}"
      ]
     },
     "execution_count": 15,
     "metadata": {},
     "output_type": "execute_result"
    }
   ],
   "source": [
    "NEW_LABEL = 'HiDDEN'\n",
    "best_model = ('PCA', 'linear', 'p_label')\n",
    "\n",
    "adata.obs['refined_labels'] = pred_df[best_model].values.astype(int).astype(str)\n",
    "de_genes.update(hiddensc.datasets.get_de_genes(adata, 'refined_labels', f'{NEW_LABEL}_'))\n",
    "\n",
    "info = {'exp_name':exp_name,\n",
    "        'True labels': 'Naive B/Memory B',\n",
    "        'Compare_labels': NEW_LABEL, 'info': '_'.join(best_model[:2])}\n",
    "info.update(hiddensc.metrics.evaluate_de_genes(de_genes, 'Naive B', 'Memory B', f'{NEW_LABEL}_0', f'{NEW_LABEL}_1' ))\n",
    "info.update({})\n",
    "results.append(info)\n",
    "de_genes"
   ]
  },
  {
   "cell_type": "code",
   "execution_count": 16,
   "id": "d548ef10-3662-4842-9a6e-db05ba94352d",
   "metadata": {
    "tags": []
   },
   "outputs": [
    {
     "data": {
      "text/plain": [
       "{'Memory B': array(['B2M', 'COTL1', 'RPS14', 'EEF1A1', 'ITGB1', 'IGHA1', 'CLECL1',\n",
       "        'HLA-C'], dtype='<U6'),\n",
       " 'Naive B': array(['IGHD', 'TCL1A', 'CXCR4', 'CD74', 'BTG1', 'RPL18A'], dtype='<U6'),\n",
       " 'Case': array([], dtype='<U1'),\n",
       " 'Control': array([], dtype='<U1'),\n",
       " 'HiDDEN_0': array(['BTG1', 'MT-ATP6', 'CD74', 'TMSB4X', 'MT-CO2', 'CXCR4', 'IGHD'],\n",
       "       dtype='<U7'),\n",
       " 'HiDDEN_1': array(['EEF2', 'EEF1A1', 'RPS4X', 'SLC25A6', 'RPL23A', 'RPS8', 'RPL11'],\n",
       "       dtype='<U7'),\n",
       " 'LSCVI_0': array(['IGHD', 'CXCR4', 'CD74', 'BTG1', 'TCL1A', 'IGLC2', 'MEF2C',\n",
       "        'TMSB4X', 'SEC62', 'IGLC3', 'HLA-DRB1'], dtype='<U8'),\n",
       " 'LSCVI_1': array(['EEF1A1', 'EEF2', 'B2M', 'RPL23A', 'RPS14', 'RPS18', 'RPL27A',\n",
       "        'COTL1', 'PLAC8', 'RPS8', 'RPL19', 'RPS15A', 'HLA-C', 'RPS23',\n",
       "        'JUNB', 'TPT1', 'GNB2L1', 'LY6E', 'DUSP1', 'RPS4X'], dtype='<U6')}"
      ]
     },
     "execution_count": 16,
     "metadata": {},
     "output_type": "execute_result"
    }
   ],
   "source": [
    "NEW_LABEL = 'LSCVI'\n",
    "best_model = ('LinearSCVI_10', 'linear', 'p_label')\n",
    "\n",
    "adata.obs['refined_labels'] = pred_df[best_model].values.astype(int).astype(str)\n",
    "de_genes.update(hiddensc.datasets.get_de_genes(adata, 'refined_labels', f'{NEW_LABEL}_'))\n",
    "\n",
    "info = {'exp_name':exp_name,\n",
    "        'True labels': 'Naive B/Memory B',\n",
    "        'Compare_labels': NEW_LABEL, 'info': '_'.join(best_model[:2])}\n",
    "info.update(hiddensc.metrics.evaluate_de_genes(de_genes, 'Naive B', 'Memory B', f'{NEW_LABEL}_0', f'{NEW_LABEL}_1' ))\n",
    "info.update({})\n",
    "results.append(info)\n",
    "de_genes"
   ]
  },
  {
   "cell_type": "code",
   "execution_count": 17,
   "id": "6a0433d3-66ce-45df-a10a-2ad2da722bb8",
   "metadata": {
    "tags": []
   },
   "outputs": [
    {
     "data": {
      "text/html": [
       "<div>\n",
       "<style scoped>\n",
       "    .dataframe tbody tr th:only-of-type {\n",
       "        vertical-align: middle;\n",
       "    }\n",
       "\n",
       "    .dataframe tbody tr th {\n",
       "        vertical-align: top;\n",
       "    }\n",
       "\n",
       "    .dataframe thead th {\n",
       "        text-align: right;\n",
       "    }\n",
       "</style>\n",
       "<table border=\"1\" class=\"dataframe\">\n",
       "  <thead>\n",
       "    <tr style=\"text-align: right;\">\n",
       "      <th></th>\n",
       "      <th>exp_name</th>\n",
       "      <th>True labels</th>\n",
       "      <th>Compare_labels</th>\n",
       "      <th>info</th>\n",
       "      <th>precision</th>\n",
       "      <th>recall</th>\n",
       "      <th>fdr</th>\n",
       "      <th>f1_score</th>\n",
       "    </tr>\n",
       "  </thead>\n",
       "  <tbody>\n",
       "    <tr>\n",
       "      <th>0</th>\n",
       "      <td>naiveB_1900_memoryB_49</td>\n",
       "      <td>Naive B/Memory B</td>\n",
       "      <td>Control/Case</td>\n",
       "      <td></td>\n",
       "      <td>NaN</td>\n",
       "      <td>0.000000</td>\n",
       "      <td>NaN</td>\n",
       "      <td>NaN</td>\n",
       "    </tr>\n",
       "    <tr>\n",
       "      <th>1</th>\n",
       "      <td>naiveB_1900_memoryB_49</td>\n",
       "      <td>Naive B/Memory B</td>\n",
       "      <td>HiDDEN</td>\n",
       "      <td>PCA_linear</td>\n",
       "      <td>0.357143</td>\n",
       "      <td>0.357143</td>\n",
       "      <td>0.642857</td>\n",
       "      <td>0.357143</td>\n",
       "    </tr>\n",
       "    <tr>\n",
       "      <th>2</th>\n",
       "      <td>naiveB_1900_memoryB_49</td>\n",
       "      <td>Naive B/Memory B</td>\n",
       "      <td>LSCVI</td>\n",
       "      <td>LinearSCVI_10_linear</td>\n",
       "      <td>0.322581</td>\n",
       "      <td>0.714286</td>\n",
       "      <td>0.677419</td>\n",
       "      <td>0.444444</td>\n",
       "    </tr>\n",
       "  </tbody>\n",
       "</table>\n",
       "</div>"
      ],
      "text/plain": [
       "                 exp_name       True labels Compare_labels  \\\n",
       "0  naiveB_1900_memoryB_49  Naive B/Memory B   Control/Case   \n",
       "1  naiveB_1900_memoryB_49  Naive B/Memory B         HiDDEN   \n",
       "2  naiveB_1900_memoryB_49  Naive B/Memory B          LSCVI   \n",
       "\n",
       "                   info  precision    recall       fdr  f1_score  \n",
       "0                              NaN  0.000000       NaN       NaN  \n",
       "1            PCA_linear   0.357143  0.357143  0.642857  0.357143  \n",
       "2  LinearSCVI_10_linear   0.322581  0.714286  0.677419  0.444444  "
      ]
     },
     "execution_count": 17,
     "metadata": {},
     "output_type": "execute_result"
    }
   ],
   "source": [
    "de_df = pd.DataFrame(results)\n",
    "de_df"
   ]
  },
  {
   "cell_type": "code",
   "execution_count": 20,
   "id": "bf20c2c4-3a06-42f0-94e2-c3c42e688c68",
   "metadata": {
    "tags": []
   },
   "outputs": [],
   "source": [
    "files.save_npz(at_results_dir('de_genes.npz'), de_genes)\n",
    "de_df.to_csv(at_results_dir('de_genes.csv'))"
   ]
  }
 ],
 "metadata": {
  "environment": {
   "name": "pytorch-gpu.1-9.m81",
   "type": "gcloud",
   "uri": "gcr.io/deeplearning-platform-release/pytorch-gpu.1-9:m81"
  },
  "kernelspec": {
   "display_name": "Python [conda env:hidden]",
   "language": "python",
   "name": "conda-env-hidden-py"
  },
  "language_info": {
   "codemirror_mode": {
    "name": "ipython",
    "version": 3
   },
   "file_extension": ".py",
   "mimetype": "text/x-python",
   "name": "python",
   "nbconvert_exporter": "python",
   "pygments_lexer": "ipython3",
   "version": "3.10.10"
  }
 },
 "nbformat": 4,
 "nbformat_minor": 5
}
